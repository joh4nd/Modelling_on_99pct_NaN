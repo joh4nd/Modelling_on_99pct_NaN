{
 "cells": [
  {
   "cell_type": "code",
   "execution_count": 3,
   "id": "51722084-df67-445b-b8f3-edb5da6c05ce",
   "metadata": {},
   "outputs": [
    {
     "name": "stderr",
     "output_type": "stream",
     "text": [
      "[rebel_decode.py: -    parse_public_data() ]  ... Parsing public data!\n",
      "[rebel_decode.py: -    parse_public_data() ]  ... Done parsing public!\n"
     ]
    },
    {
     "name": "stdout",
     "output_type": "stream",
     "text": [
      "Found 33 rebels!\n",
      "\n",
      " Rebel names and message types:\n",
      "{'Barb':     messenger    t cotraveller\n",
      "0        Barb    1      Nathan\n",
      "33       Barb   55        Finn\n",
      "49       Barb   70        Rolf\n",
      "66       Barb   88        Rolf\n",
      "103      Barb  130      Nathan\n",
      "105      Barb  135        Finn\n",
      "123      Barb  153        Finn\n",
      "160      Barb  204       Marie\n",
      "173      Barb  221        Qwon\n",
      "185      Barb  233        Finn\n",
      "187      Barb  234        Rolf\n",
      "192      Barb  239        Qwon\n",
      "204      Barb  258      Nathan\n",
      "225      Barb  274      Nathan\n",
      "232      Barb  281       Marie\n",
      "236      Barb  292        Rolf\n",
      "237      Barb  293        Rolf\n",
      "245      Barb  302        Qwon\n",
      "262      Barb  338      Carrie\n",
      "263      Barb  340        Finn\n",
      "289      Barb  379        Rolf\n",
      "302      Barb  395      Nathan\n",
      "303      Barb  397        Finn\n",
      "306      Barb  403        Finn\n",
      "312      Barb  413        Finn\n",
      "321      Barb  422      Carrie\n",
      "389      Barb  520        Qwon\n",
      "424      Barb  570        Qwon\n",
      "509      Barb  699        Rolf\n",
      "519      Barb  711       Marie\n",
      "522      Barb  716        Finn\n",
      "527      Barb  721      Nathan\n",
      "558      Barb  752      Nathan\n",
      "564      Barb  760      Carrie\n",
      "573      Barb  766        Rolf\n",
      "602      Barb  789      Carrie\n",
      "604      Barb  791        Qwon\n",
      "612      Barb  796      Carrie\n",
      "619      Barb  803        Finn\n",
      "630      Barb  815        Finn\n",
      "643      Barb  846        Rolf\n",
      "655      Barb  867      Nathan\n",
      "660      Barb  884        Rolf\n",
      "683      Barb  951        Finn\n",
      "697      Barb  997        Finn, 'Rolf':     messenger    t   closestStar\n",
      "0        Rolf    1  StarID_00155\n",
      "4        Rolf   18  StarID_00151\n",
      "9        Rolf   31  StarID_00169\n",
      "22       Rolf   52  StarID_00164\n",
      "75       Rolf  125  StarID_00155\n",
      "87       Rolf  144  StarID_00148\n",
      "101      Rolf  160  StarID_03454\n",
      "105      Rolf  163  StarID_03819\n",
      "107      Rolf  166  StarID_03454\n",
      "113      Rolf  171  StarID_03819\n",
      "116      Rolf  174  StarID_03819\n",
      "119      Rolf  177  StarID_03819\n",
      "134      Rolf  203  StarID_03819\n",
      "136      Rolf  208  StarID_03819\n",
      "138      Rolf  209  StarID_03454\n",
      "142      Rolf  215  StarID_03454\n",
      "150      Rolf  224  StarID_03819\n",
      "168      Rolf  258  StarID_03819\n",
      "170      Rolf  264  StarID_03454\n",
      "172      Rolf  268  StarID_03819\n",
      "178      Rolf  274  StarID_03819\n",
      "212      Rolf  308  StarID_03819\n",
      "217      Rolf  317  StarID_03454\n",
      "226      Rolf  327  StarID_03454\n",
      "236      Rolf  342  StarID_03819\n",
      "238      Rolf  346  StarID_03819\n",
      "245      Rolf  358  StarID_03819\n",
      "254      Rolf  371  StarID_03819\n",
      "259      Rolf  381  StarID_01712\n",
      "265      Rolf  385  StarID_01719\n",
      "279      Rolf  414  StarID_01721\n",
      "329      Rolf  531  StarID_02284\n",
      "349      Rolf  570  StarID_02299\n",
      "366      Rolf  633  StarID_02233\n",
      "371      Rolf  642  StarID_01112\n",
      "377      Rolf  647  StarID_01128\n",
      "382      Rolf  654  StarID_02215\n",
      "392      Rolf  679  StarID_01108\n",
      "399      Rolf  685  StarID_02230\n",
      "400      Rolf  686  StarID_02238\n",
      "410      Rolf  707  StarID_00650\n",
      "417      Rolf  741  StarID_00646\n",
      "433      Rolf  781  StarID_00651\n",
      "439      Rolf  792  StarID_00656\n",
      "457      Rolf  822  StarID_04118\n",
      "476      Rolf  876  StarID_00450\n",
      "502      Rolf  930  StarID_00435\n",
      "511      Rolf  937  StarID_00445\n",
      "514      Rolf  942  StarID_00442, 'Ane':     messenger    t   closestStar\n",
      "1         Ane    1  StarID_00128\n",
      "11        Ane   34  StarID_00127\n",
      "18        Ane   43  StarID_00108\n",
      "19        Ane   44  StarID_00136\n",
      "24        Ane   58  StarID_00124\n",
      "..        ...  ...           ...\n",
      "495       Ane  913  StarID_02482\n",
      "512       Ane  937  StarID_02484\n",
      "515       Ane  942  StarID_02480\n",
      "524       Ane  965  StarID_02475\n",
      "529       Ane  982  StarID_02492\n",
      "\n",
      "[61 rows x 3 columns], 'Bonnie':     messenger    t   closestStar\n",
      "2      Bonnie    1  StarID_00128\n",
      "5      Bonnie   18  StarID_00134\n",
      "6      Bonnie   25  StarID_00102\n",
      "10     Bonnie   32  StarID_00116\n",
      "15     Bonnie   41  StarID_00102\n",
      "..        ...  ...           ...\n",
      "513    Bonnie  941  StarID_02485\n",
      "516    Bonnie  942  StarID_02480\n",
      "518    Bonnie  945  StarID_02490\n",
      "523    Bonnie  961  StarID_02477\n",
      "533    Bonnie  992  StarID_02476\n",
      "\n",
      "[62 rows x 3 columns], 'Cris':     messenger    t           x           y           z\n",
      "0        Cris    3  540.295376  397.296786  836.038739\n",
      "1        Cris   10  545.178797  399.565894  833.160660\n",
      "13       Cris   41  556.071074  402.405968  824.941948\n",
      "15       Cris   48  538.418646  382.677723  831.650156\n",
      "20       Cris   56  470.083644  447.090551  768.033084\n",
      "23       Cris   63  157.166303  800.354977  255.343741\n",
      "45       Cris  127  725.603033  852.249475  406.058881\n",
      "46       Cris  130  754.444693  944.421602  340.594463\n",
      "104      Cris  291  423.338814  610.124283  217.812467\n",
      "109      Cris  301  608.879605  710.038561  139.448322\n",
      "116      Cris  313  610.024971  702.138164  113.606880\n",
      "125      Cris  329  856.269656  505.991945  356.503706\n",
      "131      Cris  345  951.034521  211.538249  710.687571\n",
      "137      Cris  360  940.520085  196.592385  698.677649\n",
      "142      Cris  366  939.462261  198.792575  696.248577\n",
      "149      Cris  376  763.908218  616.368946  578.191529\n",
      "157      Cris  386  763.819211  617.696641  581.710589\n",
      "162      Cris  407  760.722905  610.612891  567.140047\n",
      "177      Cris  442  766.136367  592.548664  580.882243\n",
      "182      Cris  446  764.185006  604.956670  623.976734\n",
      "196      Cris  495  759.807408  611.891199  566.762166\n",
      "198      Cris  502  755.313826  638.870319  684.272878\n",
      "213      Cris  552  762.115254  596.228579  613.756677\n",
      "216      Cris  562  759.719883  587.177133  573.377468\n",
      "222      Cris  585  419.924468  670.421040  710.999508\n",
      "233      Cris  636  756.902228  640.078964  679.820235\n",
      "243      Cris  660  767.274617  599.378857  552.672624\n",
      "253      Cris  690  765.584540  620.000975  570.142866\n",
      "256      Cris  697  747.239284  588.406288  584.363249\n",
      "274      Cris  788  755.477955  591.567596  563.620513\n",
      "275      Cris  793  756.811495  606.656836  564.521364\n",
      "278      Cris  805  747.195836  596.286419  583.715035\n",
      "281      Cris  819  762.580928  610.273030  578.519799\n",
      "283      Cris  823  780.359312  575.163470  596.307358\n",
      "284      Cris  828  772.720062  619.109949  569.812564\n",
      "286      Cris  832  764.334206  613.372850  578.637550\n",
      "300      Cris  886  760.981869  608.610859  579.641022\n",
      "309      Cris  910  752.625649  588.540652  577.139665\n",
      "314      Cris  924  741.642041  575.002268  564.993388\n",
      "316      Cris  926  745.496126  625.364455  574.378890\n",
      "319      Cris  929  791.003827  594.460704  581.527048\n",
      "320      Cris  936  763.228728  601.852321  565.597240\n",
      "328      Cris  961  743.835290  631.333267  641.951102\n",
      "341      Cris  993  201.019299  786.104698  216.834280, 'Ariel':     messenger    t cotraveller\n",
      "1       Ariel    3    Pernille\n",
      "93      Ariel  114      Mikkel\n",
      "100     Ariel  123       Harry\n",
      "110     Ariel  140      Robert\n",
      "131     Ariel  163        Emil\n",
      "140     Ariel  173      Robert\n",
      "151     Ariel  187       Harry\n",
      "161     Ariel  204        Emil\n",
      "168     Ariel  215      Robert\n",
      "175     Ariel  222      Mikkel\n",
      "181     Ariel  230      Mikkel\n",
      "183     Ariel  231    Pernille\n",
      "195     Ariel  246    Pernille\n",
      "213     Ariel  263        Emil\n",
      "220     Ariel  271        Emil\n",
      "228     Ariel  277      Mikkel\n",
      "251     Ariel  307    Pernille\n",
      "254     Ariel  318        Emil\n",
      "307     Ariel  403      Mikkel\n",
      "350     Ariel  458      Winnie\n",
      "388     Ariel  516        Emil\n",
      "400     Ariel  538       Harry\n",
      "416     Ariel  558      Wallie\n",
      "418     Ariel  559      Mikkel\n",
      "422     Ariel  565        Emil\n",
      "449     Ariel  602      Robert\n",
      "475     Ariel  648      Winnie\n",
      "485     Ariel  658    Pernille\n",
      "501     Ariel  689    Pernille\n",
      "504     Ariel  691      Robert\n",
      "514     Ariel  704    Pernille\n",
      "523     Ariel  716      Robert\n",
      "530     Ariel  724      Robert\n",
      "542     Ariel  732      Wallie\n",
      "543     Ariel  733      Mikkel\n",
      "567     Ariel  761        Emil\n",
      "569     Ariel  763      Wallie\n",
      "578     Ariel  769      Mikkel\n",
      "615     Ariel  798      Robert\n",
      "618     Ariel  801        Emil\n",
      "631     Ariel  816      Winnie\n",
      "637     Ariel  831      Mikkel\n",
      "641     Ariel  840      Robert\n",
      "648     Ariel  853      Robert\n",
      "651     Ariel  857       Harry\n",
      "662     Ariel  891      Robert\n",
      "667     Ariel  908      Mikkel\n",
      "668     Ariel  910    Pernille\n",
      "670     Ariel  914      Winnie\n",
      "673     Ariel  919    Pernille\n",
      "676     Ariel  922      Mikkel\n",
      "680     Ariel  946       Harry, 'Marie':     messenger    t cotraveller\n",
      "2       Marie    5        Qwon\n",
      "6       Marie    9        Rolf\n",
      "14      Marie   21        Finn\n",
      "17      Marie   32        Qwon\n",
      "27      Marie   48        Qwon\n",
      "48      Marie   68        Barb\n",
      "82      Marie  104      Carrie\n",
      "108     Marie  139      Nathan\n",
      "125     Marie  155        Finn\n",
      "128     Marie  161        Barb\n",
      "134     Marie  171        Rolf\n",
      "186     Marie  233        Finn\n",
      "188     Marie  237      Nathan\n",
      "196     Marie  248        Barb\n",
      "205     Marie  258        Qwon\n",
      "207     Marie  259        Qwon\n",
      "248     Marie  306        Finn\n",
      "255     Marie  321        Qwon\n",
      "258     Marie  326        Rolf\n",
      "268     Marie  343        Barb\n",
      "280     Marie  366        Finn\n",
      "284     Marie  374      Nathan\n",
      "294     Marie  386      Carrie\n",
      "330     Marie  429        Rolf\n",
      "334     Marie  437        Finn\n",
      "342     Marie  447      Nathan\n",
      "344     Marie  453      Nathan\n",
      "351     Marie  459        Barb\n",
      "354     Marie  464        Rolf\n",
      "358     Marie  473        Rolf\n",
      "361     Marie  476        Finn\n",
      "368     Marie  490      Nathan\n",
      "370     Marie  495      Carrie\n",
      "373     Marie  498      Carrie\n",
      "377     Marie  504        Qwon\n",
      "382     Marie  512        Finn\n",
      "383     Marie  513        Finn\n",
      "385     Marie  515      Nathan\n",
      "390     Marie  520      Carrie\n",
      "401     Marie  539        Finn\n",
      "417     Marie  559      Carrie\n",
      "445     Marie  601        Qwon\n",
      "461     Marie  620        Rolf\n",
      "463     Marie  622        Barb\n",
      "494     Marie  682        Barb\n",
      "505     Marie  692      Nathan\n",
      "506     Marie  696      Carrie\n",
      "524     Marie  717        Finn\n",
      "531     Marie  726      Nathan\n",
      "541     Marie  732      Carrie\n",
      "550     Marie  745        Qwon\n",
      "556     Marie  751        Rolf\n",
      "560     Marie  754      Nathan\n",
      "576     Marie  767      Carrie\n",
      "577     Marie  768      Nathan\n",
      "584     Marie  773        Barb\n",
      "636     Marie  828      Nathan\n",
      "647     Marie  851      Nathan\n",
      "661     Marie  885        Qwon\n",
      "678     Marie  929        Qwon, 'Carrie':     messenger    t cotraveller\n",
      "3      Carrie    5       Marie\n",
      "7      Carrie    9      Nathan\n",
      "19     Carrie   36       Marie\n",
      "67     Carrie   88        Barb\n",
      "83     Carrie  104        Finn\n",
      "..        ...  ...         ...\n",
      "642    Carrie  843        Rolf\n",
      "644    Carrie  846        Rolf\n",
      "652    Carrie  861        Finn\n",
      "654    Carrie  866      Nathan\n",
      "671    Carrie  917       Marie\n",
      "\n",
      "[61 rows x 3 columns], 'Larry':     messenger    t cotraveller\n",
      "4       Larry    6       Johan\n",
      "20      Larry   36       Rikke\n",
      "47      Larry   67       Henry\n",
      "53      Larry   76      Jesper\n",
      "57      Larry   81        Luna\n",
      "78      Larry   99        Kaja\n",
      "81      Larry  103       Henry\n",
      "84      Larry  104         Ben\n",
      "127     Larry  160       Johan\n",
      "136     Larry  171       Biggs\n",
      "147     Larry  186       Johan\n",
      "180     Larry  230       Biggs\n",
      "215     Larry  265       Biggs\n",
      "219     Larry  271       Johan\n",
      "230     Larry  280       Biggs\n",
      "272     Larry  346        Kaja\n",
      "291     Larry  382       Johan\n",
      "300     Larry  393       Henry\n",
      "326     Larry  427         Ben\n",
      "348     Larry  457       Biggs\n",
      "423     Larry  566         Ben\n",
      "438     Larry  593        Cris\n",
      "454     Larry  608       Rikke\n",
      "474     Larry  645       Johan\n",
      "484     Larry  658         Ben\n",
      "525     Larry  719       Rikke\n",
      "623     Larry  806       Johan\n",
      "626     Larry  811        Kaja\n",
      "635     Larry  825        Cris\n",
      "664     Larry  900       Johan\n",
      "677     Larry  926       Biggs\n",
      "684     Larry  955       Henry, 'Harry':     messenger    t cotraveller\n",
      "5       Harry    6      Mikkel\n",
      "18      Harry   33      Mikkel\n",
      "23      Harry   41      Wallie\n",
      "32      Harry   54      Wallie\n",
      "101     Harry  128      Wallie\n",
      "109     Harry  140      Winnie\n",
      "115     Harry  142      Wallie\n",
      "126     Harry  156      Winnie\n",
      "133     Harry  169      Winnie\n",
      "141     Harry  177      Wallie\n",
      "144     Harry  182      Wallie\n",
      "150     Harry  187        Emil\n",
      "164     Harry  206      Mikkel\n",
      "172     Harry  220       Ariel\n",
      "174     Harry  221      Wallie\n",
      "201     Harry  251    Pernille\n",
      "206     Harry  258      Winnie\n",
      "212     Harry  263      Mikkel\n",
      "242     Harry  299    Pernille\n",
      "265     Harry  341      Winnie\n",
      "297     Harry  390      Wallie\n",
      "311     Harry  412      Winnie\n",
      "328     Harry  428      Winnie\n",
      "333     Harry  435      Mikkel\n",
      "336     Harry  439       Ariel\n",
      "343     Harry  450       Ariel\n",
      "346     Harry  455      Winnie\n",
      "353     Harry  463       Ariel\n",
      "374     Harry  498      Robert\n",
      "380     Harry  507      Robert\n",
      "398     Harry  533    Pernille\n",
      "404     Harry  543       Ariel\n",
      "407     Harry  547      Robert\n",
      "429     Harry  580      Winnie\n",
      "434     Harry  591        Emil\n",
      "451     Harry  605    Pernille\n",
      "455     Harry  610       Ariel\n",
      "487     Harry  665        Emil\n",
      "491     Harry  674      Robert\n",
      "500     Harry  687      Wallie\n",
      "513     Harry  701      Robert\n",
      "515     Harry  706      Winnie\n",
      "521     Harry  715    Pernille\n",
      "533     Harry  726       Ariel\n",
      "536     Harry  727      Winnie\n",
      "551     Harry  745      Winnie\n",
      "559     Harry  753      Winnie\n",
      "588     Harry  777      Robert\n",
      "607     Harry  792      Wallie\n",
      "614     Harry  797    Pernille\n",
      "639     Harry  834        Emil\n",
      "650     Harry  856      Mikkel\n",
      "653     Harry  864      Mikkel\n",
      "659     Harry  883    Pernille\n",
      "666     Harry  907      Wallie\n",
      "674     Harry  921      Mikkel\n",
      "682     Harry  950    Pernille\n",
      "686     Harry  965      Wallie\n",
      "695     Harry  992        Emil, 'Wallie':     messenger    t   closestStar\n",
      "3      Wallie    9  StarID_03688\n",
      "12     Wallie   35  StarID_03160\n",
      "17     Wallie   43  StarID_03172\n",
      "20     Wallie   49  StarID_03174\n",
      "27     Wallie   62  StarID_03161\n",
      "31     Wallie   70  StarID_03169\n",
      "60     Wallie  105  StarID_03173\n",
      "66     Wallie  110  StarID_03583\n",
      "73     Wallie  122  StarID_01642\n",
      "135    Wallie  203  StarID_01633\n",
      "181    Wallie  275  StarID_03832\n",
      "186    Wallie  282  StarID_04034\n",
      "198    Wallie  293  StarID_03832\n",
      "199    Wallie  295  StarID_03832\n",
      "207    Wallie  301  StarID_04034\n",
      "219    Wallie  319  StarID_03832\n",
      "232    Wallie  336  StarID_03832\n",
      "235    Wallie  340  StarID_03832\n",
      "243    Wallie  353  StarID_03832\n",
      "247    Wallie  362  StarID_04034\n",
      "264    Wallie  384  StarID_03832\n",
      "272    Wallie  396  StarID_03599\n",
      "288    Wallie  439  StarID_00462\n",
      "301    Wallie  473  StarID_00470\n",
      "310    Wallie  496  StarID_00460\n",
      "314    Wallie  504  StarID_00458\n",
      "337    Wallie  555  StarID_00458\n",
      "340    Wallie  559  StarID_00476\n",
      "353    Wallie  582  StarID_00476\n",
      "370    Wallie  637  StarID_00460\n",
      "381    Wallie  653  StarID_00465\n",
      "423    Wallie  754  StarID_00470\n",
      "444    Wallie  801  StarID_00458\n",
      "446    Wallie  806  StarID_00476\n",
      "447    Wallie  807  StarID_00462\n",
      "460    Wallie  829  StarID_00475\n",
      "483    Wallie  886  StarID_00475\n",
      "510    Wallie  936  StarID_00482\n",
      "536    Wallie  999  StarID_00610, 'Vanessa':     messenger    t cotraveller\n",
      "8     Vanessa    9      Jelena\n",
      "10    Vanessa   13         Ane\n",
      "11    Vanessa   17      Bonnie\n",
      "22    Vanessa   39     Yolanda\n",
      "25    Vanessa   45     Yolanda\n",
      "..        ...  ...         ...\n",
      "628   Vanessa  813      Bonnie\n",
      "656   Vanessa  869      Bonnie\n",
      "679   Vanessa  932       Georg\n",
      "687   Vanessa  965         Ane\n",
      "693   Vanessa  982     Yolanda\n",
      "\n",
      "[66 rows x 3 columns], 'Jelena':     messenger    t cotraveller\n",
      "9      Jelena   10     Vanessa\n",
      "12     Jelena   17      Bonnie\n",
      "21     Jelena   38       Georg\n",
      "24     Jelena   43      Bonnie\n",
      "28     Jelena   48     Yolanda\n",
      "..        ...  ...         ...\n",
      "597    Jelena  782     Vanessa\n",
      "601    Jelena  787         Ane\n",
      "633    Jelena  820       Steve\n",
      "638    Jelena  831     Yolanda\n",
      "681    Jelena  946       Steve\n",
      "\n",
      "[61 rows x 3 columns], 'Johan':     messenger    t           x           y           z\n",
      "2       Johan   16  547.261193  388.539646  827.665411\n",
      "3       Johan   17  540.520872  411.808695  810.310567\n",
      "5       Johan   25  527.047833  406.113161  804.188209\n",
      "8       Johan   30  537.902452  408.078302  809.882746\n",
      "34      Johan   96   93.616075  248.721461  358.822567\n",
      "40      Johan  119  708.689859  228.754467  680.818038\n",
      "111     Johan  305  607.307356  702.361884  149.341998\n",
      "115     Johan  309  603.812193  732.285174  110.770441\n",
      "139     Johan  363  946.926142  207.695527  683.228987\n",
      "145     Johan  370  825.650138  466.691558  612.070547\n",
      "146     Johan  371  787.427529  553.972160  590.669379\n",
      "169     Johan  427  752.796016  567.361774  586.681926\n",
      "173     Johan  432  766.997344  598.451322  555.164012\n",
      "193     Johan  488  772.450150  569.649569  596.226769\n",
      "211     Johan  547  732.064365  585.189127  586.090694\n",
      "212     Johan  548  767.747162  588.843032  572.513044\n",
      "217     Johan  567  759.624461  617.530562  579.843849\n",
      "231     Johan  634  760.975483  605.549611  601.522818\n",
      "276     Johan  795  787.947230  594.144848  579.076384\n",
      "294     Johan  866  778.266193  609.813854  601.933058\n",
      "297     Johan  878  788.165402  611.493846  565.260224\n",
      "315     Johan  925  772.223996  609.514815  585.279756, 'Yolanda':     messenger    t           x           y           z\n",
      "4     Yolanda   19  227.953620  815.737788   45.959464\n",
      "38    Yolanda  110  230.193827  813.001052   50.893926\n",
      "44    Yolanda  126  232.230215  798.027852   54.430460\n",
      "54    Yolanda  155  242.804920  798.302451   42.362268\n",
      "67    Yolanda  191  218.481741  813.373697   24.439478\n",
      "106   Yolanda  292  273.037455  895.503945  882.774412\n",
      "121   Yolanda  323  253.632583  874.846762  859.762910\n",
      "164   Yolanda  407  268.409119  878.041345  876.802400\n",
      "167   Yolanda  419  245.589071  864.028403  889.008418\n",
      "180   Yolanda  443  421.424416  550.465463  611.173794\n",
      "189   Yolanda  471  429.560278  555.887808  662.113112\n",
      "200   Yolanda  513  447.180638  561.544297  607.271880\n",
      "224   Yolanda  601  207.095966  733.153497  821.677612\n",
      "248   Yolanda  681  584.491133  926.338631  221.892640\n",
      "258   Yolanda  705  581.310122  922.106137  215.099061\n",
      "268   Yolanda  747  100.863414  834.126225  194.912315\n",
      "269   Yolanda  748  109.684510  834.260749  156.682205\n",
      "282   Yolanda  822  498.500294  615.744101  346.625876\n",
      "287   Yolanda  840  699.991838  541.845646  397.449883\n",
      "290   Yolanda  849  718.827181  540.132545  406.211557\n",
      "291   Yolanda  855  692.340800  547.955670  381.592639\n",
      "293   Yolanda  861  803.344247  537.540557  299.724399\n",
      "299   Yolanda  884  802.853849  499.623642  253.072416\n",
      "305   Yolanda  904  812.353027  527.058371  287.091075\n",
      "310   Yolanda  910  853.523352  572.259096  258.178358\n",
      "325   Yolanda  948  819.165723  525.567733  268.896261\n",
      "329   Yolanda  966  820.322242  547.143661  262.922967\n",
      "335   Yolanda  980  813.223857  542.693938  275.571059\n",
      "340   Yolanda  992  857.457528  520.818198  247.503174, 'Georg':     messenger     t cotraveller\n",
      "13      Georg    20         Ane\n",
      "15      Georg    27      Bonnie\n",
      "26      Georg    47       Steve\n",
      "31      Georg    53      Bonnie\n",
      "39      Georg    59      Bonnie\n",
      "..        ...   ...         ...\n",
      "611     Georg   794     Vanessa\n",
      "620     Georg   803     Yolanda\n",
      "625     Georg   810     Vanessa\n",
      "629     Georg   813         Ane\n",
      "698     Georg  1000      Jelena\n",
      "\n",
      "[65 rows x 3 columns], 'Mikkel':     messenger    t           x           y           z\n",
      "6      Mikkel   26  780.077603  245.474275  137.793408\n",
      "9      Mikkel   31  710.951996  257.918374  148.934147\n",
      "16     Mikkel   48  770.040567  249.374607  159.106283\n",
      "21     Mikkel   57  746.773303  241.652178  158.588493\n",
      "22     Mikkel   58  744.049404  240.615667  155.230317\n",
      "26     Mikkel   67  763.733786  241.537647  142.255945\n",
      "32     Mikkel   88  752.038955  246.035071  142.876833\n",
      "33     Mikkel   93  755.147512  266.768804  177.516702\n",
      "41     Mikkel  122  154.649970  272.343470  872.182011\n",
      "61     Mikkel  170  105.260766  289.415078  842.173271\n",
      "62     Mikkel  173   97.521803  294.947001  798.171153\n",
      "66     Mikkel  191  144.365761  270.864143  866.954375\n",
      "72     Mikkel  199  131.635977  279.114085  907.943945\n",
      "74     Mikkel  207  147.199742  276.113461  825.862522\n",
      "81     Mikkel  231   89.546125  298.491261  796.817705\n",
      "89     Mikkel  252   91.798002  294.905135  830.027394\n",
      "91     Mikkel  260   89.985646  297.121169  817.661408\n",
      "94     Mikkel  265   88.373081  298.227789  801.985445\n",
      "95     Mikkel  270  330.728999  189.291050  648.815323\n",
      "99     Mikkel  279  630.436827   43.416209  423.066334\n",
      "102    Mikkel  285  640.933649   49.794960  428.193273\n",
      "103    Mikkel  288  636.257992   45.812489  467.334188\n",
      "112    Mikkel  306  639.868093   39.880156  459.994060\n",
      "113    Mikkel  307  632.622539   52.342108  462.534566\n",
      "124    Mikkel  326  642.704275   43.708072  468.402574\n",
      "127    Mikkel  335  644.796175   46.535893  466.995542\n",
      "132    Mikkel  350  642.482704   46.087086  469.297449\n",
      "134    Mikkel  353  641.613721   45.769364  425.224384\n",
      "140    Mikkel  364  649.308582   42.199127  452.373563\n",
      "143    Mikkel  366  646.233988   45.231860  470.836174\n",
      "153    Mikkel  381  647.489038   51.417355  468.756114\n",
      "163    Mikkel  407  441.915099  544.823693  623.596955\n",
      "172    Mikkel  431  478.269312  541.665002  637.841291\n",
      "175    Mikkel  435  431.371483  530.079752  647.375676\n",
      "176    Mikkel  440  439.215272  551.352523  685.584764\n",
      "207    Mikkel  533  440.473169  544.552852  622.625871\n",
      "208    Mikkel  535  440.259538  538.065543  629.509777\n",
      "221    Mikkel  582  442.776322  539.850838  625.558196\n",
      "241    Mikkel  659  426.129488  556.822534  651.849440\n",
      "245    Mikkel  672  450.773824  566.778479  647.947823\n",
      "246    Mikkel  678  444.947997  568.538145  673.195605\n",
      "252    Mikkel  688  470.106428  563.573177  622.989568\n",
      "254    Mikkel  691  472.220284  570.623267  612.246103\n",
      "262    Mikkel  716  481.586104  538.390524  641.091938\n",
      "266    Mikkel  742  430.560475  539.889925  610.370179\n",
      "273    Mikkel  774  433.089972  553.443572  613.996274\n",
      "279    Mikkel  814  443.429588  558.327796  688.985689\n",
      "298    Mikkel  882  477.220970  561.976291  662.796931\n",
      "306    Mikkel  906  442.567146  572.361053  665.514084\n",
      "307    Mikkel  909  438.792718  552.107176  658.341155\n",
      "312    Mikkel  915  447.799311  564.080527  648.914783\n",
      "321    Mikkel  938  434.446600  537.793080  608.112159\n",
      "324    Mikkel  945  472.849252  549.969899  644.798133\n",
      "331    Mikkel  969  442.528146  566.051447  653.229270\n",
      "337    Mikkel  982  563.173890  773.318289  896.566495, 'Robert':     messenger    t           x           y           z\n",
      "7      Robert   26  777.011450  248.688245  137.289686\n",
      "18     Robert   50  739.288742  245.225233  149.656581\n",
      "25     Robert   64  773.869480  251.689231  163.395929\n",
      "28     Robert   71  774.041831  242.159036  139.624595\n",
      "30     Robert   78  783.016446  229.926576  130.826442\n",
      "..        ...  ...         ...         ...         ...\n",
      "302    Robert  893  464.642255  562.035164  607.101938\n",
      "304    Robert  904  451.572402  563.297672  628.705496\n",
      "317    Robert  927  454.136436  555.838656  640.729473\n",
      "318    Robert  928  462.552120  565.677125  616.170115\n",
      "339    Robert  986  557.790475  774.091750  901.271762\n",
      "\n",
      "[61 rows x 5 columns], 'Nathan':     messenger    t cotraveller\n",
      "16     Nathan   29        Barb\n",
      "35     Nathan   56        Finn\n",
      "46     Nathan   67        Qwon\n",
      "58     Nathan   82        Rolf\n",
      "60     Nathan   84        Barb\n",
      "68     Nathan   89       Marie\n",
      "96     Nathan  119        Finn\n",
      "129    Nathan  161      Carrie\n",
      "135    Nathan  171       Marie\n",
      "156    Nathan  195       Marie\n",
      "162    Nathan  205        Barb\n",
      "167    Nathan  212       Marie\n",
      "199    Nathan  250        Qwon\n",
      "218    Nathan  271        Rolf\n",
      "238    Nathan  293        Barb\n",
      "246    Nathan  303        Rolf\n",
      "259    Nathan  329        Qwon\n",
      "267    Nathan  342        Barb\n",
      "275    Nathan  357        Rolf\n",
      "282    Nathan  373      Carrie\n",
      "292    Nathan  383        Finn\n",
      "298    Nathan  391      Carrie\n",
      "304    Nathan  398        Rolf\n",
      "318    Nathan  420        Finn\n",
      "320    Nathan  421        Barb\n",
      "352    Nathan  459      Carrie\n",
      "357    Nathan  470        Qwon\n",
      "386    Nathan  515      Carrie\n",
      "393    Nathan  524        Qwon\n",
      "397    Nathan  531        Barb\n",
      "403    Nathan  543        Qwon\n",
      "415    Nathan  558        Finn\n",
      "419    Nathan  561        Finn\n",
      "439    Nathan  594        Barb\n",
      "442    Nathan  595        Rolf\n",
      "444    Nathan  596       Marie\n",
      "452    Nathan  607        Finn\n",
      "462    Nathan  620        Rolf\n",
      "480    Nathan  654       Marie\n",
      "483    Nathan  658        Barb\n",
      "486    Nathan  662        Barb\n",
      "492    Nathan  680        Finn\n",
      "495    Nathan  683        Barb\n",
      "507    Nathan  698        Rolf\n",
      "512    Nathan  700        Qwon\n",
      "517    Nathan  710       Marie\n",
      "534    Nathan  727       Marie\n",
      "553    Nathan  747      Carrie\n",
      "562    Nathan  758        Qwon\n",
      "568    Nathan  763       Marie\n",
      "581    Nathan  771        Barb\n",
      "589    Nathan  778        Qwon\n",
      "598    Nathan  783        Qwon\n",
      "600    Nathan  785        Rolf\n",
      "605    Nathan  791        Barb\n",
      "609    Nathan  794      Carrie\n",
      "645    Nathan  849        Barb\n",
      "657    Nathan  872        Barb\n",
      "669    Nathan  911        Rolf\n",
      "689    Nathan  970        Finn, 'Qwon':     messenger    t   closestStar\n",
      "7        Qwon   30  StarID_00159\n",
      "23       Qwon   55  StarID_03723\n",
      "54       Qwon   97  StarID_00166\n",
      "58       Qwon  104  StarID_00155\n",
      "97       Qwon  154  StarID_03454\n",
      "114      Qwon  172  StarID_03454\n",
      "115      Qwon  173  StarID_03819\n",
      "118      Qwon  175  StarID_03454\n",
      "143      Qwon  215  StarID_03454\n",
      "145      Qwon  218  StarID_03819\n",
      "148      Qwon  220  StarID_03819\n",
      "149      Qwon  222  StarID_03819\n",
      "156      Qwon  232  StarID_03819\n",
      "160      Qwon  243  StarID_03454\n",
      "163      Qwon  252  StarID_03819\n",
      "175      Qwon  271  StarID_03454\n",
      "192      Qwon  288  StarID_03819\n",
      "196      Qwon  290  StarID_03454\n",
      "201      Qwon  298  StarID_03454\n",
      "208      Qwon  302  StarID_03454\n",
      "213      Qwon  309  StarID_03454\n",
      "218      Qwon  318  StarID_03819\n",
      "221      Qwon  321  StarID_03454\n",
      "222      Qwon  322  StarID_03819\n",
      "224      Qwon  323  StarID_03454\n",
      "225      Qwon  325  StarID_03454\n",
      "228      Qwon  334  StarID_03819\n",
      "231      Qwon  336  StarID_03819\n",
      "234      Qwon  339  StarID_03454\n",
      "248      Qwon  363  StarID_03454\n",
      "255      Qwon  373  StarID_03454\n",
      "269      Qwon  393  StarID_01717\n",
      "282      Qwon  419  StarID_01730\n",
      "297      Qwon  458  StarID_01715\n",
      "318      Qwon  512  StarID_02299\n",
      "327      Qwon  530  StarID_02289\n",
      "357      Qwon  598  StarID_03139\n",
      "373      Qwon  645  StarID_01111\n",
      "385      Qwon  667  StarID_02223\n",
      "401      Qwon  687  StarID_02239\n",
      "402      Qwon  693  StarID_02637\n",
      "403      Qwon  697  StarID_01249\n",
      "412      Qwon  714  StarID_00648\n",
      "427      Qwon  772  StarID_03782\n",
      "429      Qwon  775  StarID_00643\n",
      "445      Qwon  806  StarID_03383\n",
      "449      Qwon  810  StarID_03596\n",
      "466      Qwon  840  StarID_03878\n",
      "490      Qwon  908  StarID_00422\n",
      "508      Qwon  935  StarID_00449\n",
      "525      Qwon  969  StarID_00433\n",
      "526      Qwon  970  StarID_00422, 'Rikke':     messenger    t   closestStar\n",
      "8       Rikke   30  StarID_00508\n",
      "34      Rikke   74  StarID_01621\n",
      "43      Rikke   81  StarID_00996\n",
      "45      Rikke   82  StarID_00975\n",
      "55      Rikke   97  StarID_02330\n",
      "69      Rikke  113  StarID_02344\n",
      "111     Rikke  167  StarID_02371\n",
      "124     Rikke  182  StarID_02403\n",
      "146     Rikke  218  StarID_02376\n",
      "147     Rikke  219  StarID_02373\n",
      "155     Rikke  230  StarID_02371\n",
      "157     Rikke  236  StarID_02382\n",
      "176     Rikke  271  StarID_02379\n",
      "182     Rikke  277  StarID_03895\n",
      "185     Rikke  282  StarID_03536\n",
      "193     Rikke  288  StarID_03536\n",
      "197     Rikke  290  StarID_03536\n",
      "200     Rikke  297  StarID_02514\n",
      "246     Rikke  358  StarID_01551\n",
      "258     Rikke  376  StarID_01191\n",
      "261     Rikke  381  StarID_01179\n",
      "270     Rikke  393  StarID_01186\n",
      "273     Rikke  402  StarID_01186\n",
      "280     Rikke  416  StarID_02720\n",
      "322     Rikke  520  StarID_01188\n",
      "328     Rikke  530  StarID_01177\n",
      "344     Rikke  564  StarID_01186\n",
      "376     Rikke  646  StarID_02723\n",
      "383     Rikke  660  StarID_02705\n",
      "389     Rikke  676  StarID_02715\n",
      "450     Rikke  811  StarID_01167\n",
      "458     Rikke  826  StarID_01191\n",
      "461     Rikke  833  StarID_02724\n",
      "470     Rikke  859  StarID_02723\n",
      "482     Rikke  885  StarID_01174\n",
      "494     Rikke  913  StarID_01189\n",
      "517     Rikke  944  StarID_02115, 'Emil':     messenger    t           x           y           z\n",
      "10       Emil   31  719.528050  253.588285  148.399007\n",
      "12       Emil   34  749.287499  277.044618  170.521754\n",
      "19       Emil   55  752.563397  233.951532  170.363452\n",
      "29       Emil   77  741.813236  247.168511  122.541965\n",
      "31       Emil   86  778.839547  233.139676  142.703751\n",
      "36       Emil   98  747.153272  240.425088  155.156166\n",
      "48       Emil  137  144.749739  254.203168  875.212764\n",
      "52       Emil  143  138.082068  265.216720  873.606837\n",
      "55       Emil  158  137.836931  274.171465  860.598056\n",
      "56       Emil  159  135.562223  277.154227  906.589474\n",
      "63       Emil  181   88.951958  294.640433  799.489447\n",
      "65       Emil  188  105.168134  273.181435  839.900492\n",
      "70       Emil  196  148.273372  257.212498  886.964732\n",
      "76       Emil  210  137.512319  269.221428  857.297188\n",
      "79       Emil  221   85.719206  300.210778  797.268137\n",
      "84       Emil  234  105.744870  291.610697  795.808435\n",
      "90       Emil  257   85.952833  288.648958  801.925835\n",
      "100      Emil  279  643.812931   57.611236  424.374383\n",
      "107      Emil  300  643.631159   50.200650  428.241594\n",
      "114      Emil  308  648.138290   53.637731  466.589071\n",
      "118      Emil  316  641.673672   54.680044  428.111499\n",
      "119      Emil  320  640.624314   48.673002  465.538494\n",
      "120      Emil  323  634.537867   51.362928  421.819494\n",
      "126      Emil  332  644.931443   45.527408  473.182237\n",
      "135      Emil  355  643.351062   53.731736  429.570066\n",
      "138      Emil  360  646.000690   53.777968  471.063180\n",
      "144      Emil  368  638.137204   57.291317  459.994686\n",
      "150      Emil  377  641.105200   56.071695  421.545737\n",
      "160      Emil  391  649.525663   50.173734  458.869636\n",
      "166      Emil  417  456.097585  579.511380  623.019999\n",
      "171      Emil  430  459.642890  570.994594  671.155140\n",
      "190      Emil  475  459.371765  573.716608  616.590044\n",
      "192      Emil  480  461.763003  575.376861  602.717395\n",
      "226      Emil  610  449.210420  560.553924  636.450800\n",
      "240      Emil  656  457.084114  564.288123  641.720374\n",
      "244      Emil  665  452.937805  570.032477  623.258355\n",
      "250      Emil  684  453.078289  553.949540  656.357417\n",
      "257      Emil  697  446.268723  552.404347  629.622877\n",
      "259      Emil  708  452.057559  569.884078  638.281752\n",
      "261      Emil  710  453.621656  560.522436  602.734061\n",
      "263      Emil  721  450.002125  566.602268  626.460994\n",
      "292      Emil  858  459.613242  559.596986  665.043933\n",
      "295      Emil  867  438.010824  564.597032  675.682951\n",
      "296      Emil  868  476.415337  559.299688  673.862990\n",
      "301      Emil  887  417.649216  544.553808  633.029274\n",
      "322      Emil  940  419.117916  553.874750  657.278080\n",
      "330      Emil  968  477.763661  537.288624  632.196093\n",
      "334      Emil  974  438.703195  553.670994  627.625859\n",
      "336      Emil  981  563.743749  782.706031  905.856296\n",
      "338      Emil  985  563.117317  764.781718  903.855454, 'Winnie':     messenger    t           x           y           z\n",
      "11     Winnie   33  711.656039  253.787811  143.329971\n",
      "14     Winnie   47  776.957977  249.198219  154.425116\n",
      "27     Winnie   68  785.511073  237.628864  124.840560\n",
      "39     Winnie  116  139.914808  276.019935  859.301501\n",
      "43     Winnie  126  138.378907  287.146599  862.961109\n",
      "51     Winnie  141  128.092549  267.531014  875.025315\n",
      "53     Winnie  155  129.165984  279.537689  851.819361\n",
      "57     Winnie  159  138.599908  263.329541  899.496103\n",
      "60     Winnie  167  138.207540  299.166422  862.775774\n",
      "64     Winnie  181   86.467731  286.044460  802.015534\n",
      "68     Winnie  192  146.929183  279.935576  868.330383\n",
      "78     Winnie  215  134.385746  275.756404  855.072854\n",
      "82     Winnie  232   84.727083  282.596456  803.679529\n",
      "85     Winnie  236   91.293182  301.999615  804.979045\n",
      "87     Winnie  245   89.428819  294.892524  798.035845\n",
      "88     Winnie  250   94.429399  288.566868  806.258585\n",
      "97     Winnie  273  556.514847   91.273151  481.035396\n",
      "101    Winnie  280  640.756249   43.497377  462.812349\n",
      "105    Winnie  291  648.317035   62.530219  425.587955\n",
      "108    Winnie  300  639.240872   53.774232  433.957361\n",
      "110    Winnie  301  644.598428   42.693799  464.730539\n",
      "123    Winnie  325  630.134207   44.615167  423.307073\n",
      "128    Winnie  337  644.964273   40.755313  462.021571\n",
      "129    Winnie  338  646.853020   48.712891  424.309004\n",
      "130    Winnie  341  644.730061   53.113845  433.122724\n",
      "136    Winnie  358  639.614824   41.916019  461.899297\n",
      "147    Winnie  371  649.825131   47.577547  421.529613\n",
      "148    Winnie  375  634.901076   53.071574  422.027083\n",
      "154    Winnie  383  636.331010   39.147201  466.335290\n",
      "156    Winnie  384  642.400899   54.772261  430.457070\n",
      "158    Winnie  387  651.053717   41.688870  466.914920\n",
      "178    Winnie  443  446.264400  556.489956  642.224133\n",
      "181    Winnie  445  451.987483  560.831761  640.743383\n",
      "183    Winnie  448  434.469356  531.481576  641.472899\n",
      "194    Winnie  488  441.183523  572.615141  636.854321\n",
      "201    Winnie  514  430.325197  562.360860  656.580518\n",
      "202    Winnie  518  449.281450  561.164714  609.123938\n",
      "205    Winnie  524  440.871474  564.078402  594.322370\n",
      "209    Winnie  535  441.243573  540.922646  625.077008\n",
      "210    Winnie  536  430.149212  561.775089  660.491126\n",
      "215    Winnie  558  450.178931  564.611895  667.727922\n",
      "220    Winnie  581  459.041427  566.613430  663.744109\n",
      "223    Winnie  594  457.422107  547.851238  620.423719\n",
      "228    Winnie  612  438.493936  550.795325  613.076132\n",
      "234    Winnie  636  454.440563  553.613425  650.663609\n",
      "236    Winnie  640  450.005273  547.408314  613.278640\n",
      "247    Winnie  679  472.902849  568.587765  648.142365\n",
      "249    Winnie  682  459.464557  561.424936  644.623096\n",
      "251    Winnie  684  458.471584  548.622376  654.509545\n",
      "255    Winnie  696  444.945080  553.139035  613.836712\n",
      "264    Winnie  722  452.241193  566.034835  598.969445\n",
      "265    Winnie  738  471.210448  533.683127  639.281218\n",
      "267    Winnie  744  456.731503  567.091912  623.161364\n",
      "270    Winnie  750  445.204556  530.529552  628.929081\n",
      "271    Winnie  764  424.517754  551.801896  658.229077\n",
      "272    Winnie  770  460.698535  566.180197  660.085448\n",
      "277    Winnie  797  453.709108  562.093549  651.148787\n",
      "308    Winnie  909  426.560550  558.375084  653.287194\n",
      "323    Winnie  942  458.390141  558.526535  620.774834\n",
      "332    Winnie  971  454.458558  558.478141  639.201891, 'Luna':     messenger    t   closestStar\n",
      "13       Luna   36  StarID_00504\n",
      "32       Luna   71  StarID_00260\n",
      "46       Luna   83  StarID_00990\n",
      "50       Luna   89  StarID_00991\n",
      "88       Luna  144  StarID_02385\n",
      "91       Luna  147  StarID_02397\n",
      "92       Luna  151  StarID_02395\n",
      "98       Luna  155  StarID_02404\n",
      "99       Luna  158  StarID_02403\n",
      "102      Luna  160  StarID_02383\n",
      "106      Luna  163  StarID_02397\n",
      "110      Luna  167  StarID_02371\n",
      "137      Luna  208  StarID_02382\n",
      "141      Luna  214  StarID_02378\n",
      "154      Luna  229  StarID_02375\n",
      "162      Luna  246  StarID_02371\n",
      "167      Luna  256  StarID_02386\n",
      "171      Luna  265  StarID_02393\n",
      "174      Luna  270  StarID_02371\n",
      "177      Luna  273  StarID_03949\n",
      "179      Luna  274  StarID_03332\n",
      "183      Luna  279  StarID_03895\n",
      "190      Luna  286  StarID_03536\n",
      "194      Luna  289  StarID_03895\n",
      "202      Luna  299  StarID_02495\n",
      "210      Luna  305  StarID_02501\n",
      "216      Luna  316  StarID_02497\n",
      "260      Luna  381  StarID_01179\n",
      "267      Luna  391  StarID_02709\n",
      "274      Luna  404  StarID_01170\n",
      "289      Luna  440  StarID_02719\n",
      "292      Luna  443  StarID_02708\n",
      "293      Luna  444  StarID_02729\n",
      "294      Luna  445  StarID_02729\n",
      "303      Luna  480  StarID_02717\n",
      "305      Luna  485  StarID_02711\n",
      "307      Luna  487  StarID_02707\n",
      "320      Luna  517  StarID_01181\n",
      "321      Luna  520  StarID_01188\n",
      "332      Luna  543  StarID_02725\n",
      "336      Luna  552  StarID_02724\n",
      "346      Luna  567  StarID_01176\n",
      "367      Luna  633  StarID_01176\n",
      "375      Luna  646  StarID_02723\n",
      "378      Luna  648  StarID_02710\n",
      "409      Luna  705  StarID_01176\n",
      "414      Luna  722  StarID_01177\n",
      "434      Luna  781  StarID_01188\n",
      "435      Luna  784  StarID_01175\n",
      "443      Luna  801  StarID_01172\n",
      "468      Luna  848  StarID_02127\n",
      "469      Luna  850  StarID_02105\n",
      "473      Luna  863  StarID_01182\n",
      "475      Luna  873  StarID_02719\n",
      "481      Luna  885  StarID_01174\n",
      "488      Luna  903  StarID_02710\n",
      "503      Luna  931  StarID_01174\n",
      "509      Luna  935  StarID_02719\n",
      "519      Luna  947  StarID_02724\n",
      "531      Luna  988  StarID_03664, 'Basim':     messenger    t   closestStar\n",
      "14      Basim   36  StarID_00504\n",
      "37      Basim   78  StarID_01609\n",
      "39      Basim   79  StarID_01609\n",
      "47      Basim   85  StarID_00998\n",
      "49      Basim   88  StarID_00974\n",
      "52      Basim   90  StarID_01806\n",
      "57      Basim  100  StarID_02950\n",
      "64      Basim  108  StarID_02340\n",
      "70      Basim  115  StarID_03877\n",
      "79      Basim  132  StarID_02400\n",
      "95      Basim  152  StarID_02389\n",
      "104     Basim  161  StarID_02386\n",
      "117     Basim  174  StarID_02385\n",
      "131     Basim  194  StarID_03359\n",
      "158     Basim  241  StarID_02377\n",
      "159     Basim  242  StarID_02399\n",
      "169     Basim  259  StarID_02398\n",
      "195     Basim  289  StarID_03895\n",
      "203     Basim  299  StarID_02495\n",
      "205     Basim  300  StarID_02518\n",
      "214     Basim  310  StarID_02497\n",
      "215     Basim  315  StarID_02514\n",
      "223     Basim  322  StarID_00711\n",
      "230     Basim  335  StarID_03417\n",
      "244     Basim  354  StarID_01555\n",
      "275     Basim  406  StarID_01165\n",
      "276     Basim  407  StarID_01168\n",
      "278     Basim  412  StarID_02713\n",
      "284     Basim  424  StarID_02726\n",
      "291     Basim  441  StarID_01170\n",
      "295     Basim  449  StarID_01177\n",
      "311     Basim  497  StarID_02107\n",
      "335     Basim  549  StarID_02709\n",
      "361     Basim  614  StarID_01170\n",
      "363     Basim  625  StarID_02729\n",
      "368     Basim  633  StarID_01176\n",
      "369     Basim  635  StarID_02110\n",
      "374     Basim  645  StarID_02722\n",
      "405     Basim  701  StarID_02726\n",
      "407     Basim  703  StarID_01173\n",
      "426     Basim  767  StarID_02723\n",
      "438     Basim  789  StarID_01181\n",
      "471     Basim  862  StarID_01190\n",
      "497     Basim  918  StarID_02706\n",
      "504     Basim  931  StarID_01174\n",
      "507     Basim  934  StarID_02714\n",
      "522     Basim  959  StarID_02109\n",
      "530     Basim  984  StarID_02727, 'Jesper':     messenger    t   closestStar\n",
      "16     Jesper   42  StarID_00505\n",
      "42     Jesper   81  StarID_00996\n",
      "56     Jesper  100  StarID_02950\n",
      "59     Jesper  104  StarID_02964\n",
      "80     Jesper  138  StarID_02383\n",
      "82     Jesper  139  StarID_02383\n",
      "83     Jesper  140  StarID_02399\n",
      "108    Jesper  166  StarID_02372\n",
      "112    Jesper  169  StarID_02395\n",
      "121    Jesper  179  StarID_02406\n",
      "129    Jesper  193  StarID_02388\n",
      "132    Jesper  197  StarID_02400\n",
      "133    Jesper  201  StarID_02388\n",
      "164    Jesper  254  StarID_02371\n",
      "173    Jesper  268  StarID_02406\n",
      "184    Jesper  282  StarID_03536\n",
      "189    Jesper  285  StarID_03534\n",
      "206    Jesper  301  StarID_02504\n",
      "211    Jesper  307  StarID_02494\n",
      "229    Jesper  335  StarID_03417\n",
      "233    Jesper  338  StarID_01545\n",
      "240    Jesper  351  StarID_01547\n",
      "262    Jesper  382  StarID_02729\n",
      "268    Jesper  392  StarID_01181\n",
      "285    Jesper  426  StarID_01171\n",
      "287    Jesper  439  StarID_01189\n",
      "298    Jesper  458  StarID_02716\n",
      "300    Jesper  471  StarID_02707\n",
      "319    Jesper  515  StarID_02707\n",
      "323    Jesper  521  StarID_02717\n",
      "345    Jesper  566  StarID_01175\n",
      "372    Jesper  642  StarID_02103\n",
      "396    Jesper  682  StarID_01169\n",
      "406    Jesper  703  StarID_01173\n",
      "421    Jesper  748  StarID_01189\n",
      "431    Jesper  778  StarID_02712\n",
      "452    Jesper  813  StarID_01187\n",
      "472    Jesper  863  StarID_01182\n",
      "486    Jesper  898  StarID_01177\n",
      "500    Jesper  923  StarID_01184\n",
      "505    Jesper  933  StarID_02718\n",
      "528    Jesper  976  StarID_02714, 'Steve':     messenger    t           x           y           z\n",
      "17      Steve   48  249.811896  838.261612   24.413826\n",
      "24      Steve   63  259.745019  823.917514   53.991153\n",
      "73      Steve  202  859.318600  252.085106  329.500446\n",
      "80      Steve  228  456.955721  121.615557  590.391429\n",
      "96      Steve  271  275.730685  876.677201  914.045349\n",
      "133     Steve  350  254.905407  897.592279  908.999527\n",
      "179     Steve  443  442.817292  539.840987  606.176620\n",
      "187     Steve  464  449.833432  563.261104  609.770936\n",
      "188     Steve  468  466.101070  562.625490  664.268427\n",
      "204     Steve  522  479.081557  575.447758  661.238259\n",
      "214     Steve  552  838.541699  772.072323  102.104399\n",
      "227     Steve  611  160.449162  742.544170  806.054221\n",
      "235     Steve  637  204.581781  738.510575  805.576650\n",
      "242     Steve  659  197.415587  751.775992  821.982827\n",
      "289     Steve  842  729.257933  543.385156  409.699737\n",
      "303     Steve  893  817.013577  537.402083  263.548679\n",
      "311     Steve  913  817.217447  545.945133  266.840454\n",
      "313     Steve  916  815.614050  514.165586  246.370578\n",
      "326     Steve  957  824.150211  540.140447  272.027488\n",
      "327     Steve  960  817.468967  538.789278  269.242749\n",
      "333     Steve  973  861.562506  508.929989  251.339396, 'Biggs':     messenger    t cotraveller\n",
      "34      Biggs   55       Rikke\n",
      "36      Biggs   57       Larry\n",
      "37      Biggs   58       Johan\n",
      "38      Biggs   59        Cris\n",
      "69      Biggs   89       Rikke\n",
      "79      Biggs  100        Cris\n",
      "86      Biggs  107       Henry\n",
      "90      Biggs  112       Basim\n",
      "97      Biggs  119         Ben\n",
      "104     Biggs  133      Jesper\n",
      "112     Biggs  141        Luna\n",
      "158     Biggs  202         Ben\n",
      "163     Biggs  205         Ben\n",
      "171     Biggs  220       Johan\n",
      "177     Biggs  224        Cris\n",
      "208     Biggs  259       Johan\n",
      "217     Biggs  268      Jesper\n",
      "324     Biggs  425       Rikke\n",
      "363     Biggs  482       Henry\n",
      "365     Biggs  485      Jesper\n",
      "369     Biggs  490        Cris\n",
      "392     Biggs  522        Kaja\n",
      "399     Biggs  534      Jesper\n",
      "409     Biggs  549       Basim\n",
      "428     Biggs  578       Henry\n",
      "430     Biggs  582       Henry\n",
      "440     Biggs  594         Ben\n",
      "450     Biggs  603      Jesper\n",
      "476     Biggs  649       Henry\n",
      "503     Biggs  691        Luna\n",
      "532     Biggs  726        Kaja\n",
      "546     Biggs  736        Cris\n",
      "575     Biggs  766       Henry\n",
      "590     Biggs  778        Luna\n",
      "616     Biggs  800        Kaja\n",
      "624     Biggs  806       Johan\n",
      "627     Biggs  811         Ben\n",
      "672     Biggs  919       Henry\n",
      "685     Biggs  959       Larry\n",
      "696     Biggs  993       Larry, 'Ben':     messenger    t cotraveller\n",
      "41        Ben   62       Biggs\n",
      "45        Ben   66        Luna\n",
      "50        Ben   71       Johan\n",
      "55        Ben   78       Basim\n",
      "61        Ben   84       Johan\n",
      "77        Ben   99       Biggs\n",
      "198       Ben  249       Johan\n",
      "305       Ben  398        Cris\n",
      "314       Ben  414       Henry\n",
      "405       Ben  544       Henry\n",
      "406       Ben  545        Luna\n",
      "411       Ben  551        Kaja\n",
      "425       Ben  575       Johan\n",
      "456       Ben  611        Kaja\n",
      "488       Ben  671        Cris\n",
      "493       Ben  680      Jesper\n",
      "510       Ben  699        Cris\n",
      "535       Ben  727       Johan\n",
      "537       Ben  729      Jesper\n",
      "585       Ben  773        Cris\n",
      "649       Ben  854       Johan\n",
      "665       Ben  904        Cris, 'Henry':     messenger    t cotraveller\n",
      "42      Henry   62        Luna\n",
      "44      Henry   64        Luna\n",
      "52      Henry   74       Johan\n",
      "64      Henry   86       Johan\n",
      "71      Henry   90       Rikke\n",
      "87      Henry  108         Ben\n",
      "114     Henry  142        Kaja\n",
      "166     Henry  209       Biggs\n",
      "182     Henry  231       Biggs\n",
      "194     Henry  242      Jesper\n",
      "203     Henry  257       Basim\n",
      "223     Henry  273        Kaja\n",
      "233     Henry  288       Johan\n",
      "309     Henry  411       Basim\n",
      "337     Henry  441       Basim\n",
      "375     Henry  502        Luna\n",
      "410     Henry  550        Luna\n",
      "421     Henry  562        Cris\n",
      "448     Henry  602       Biggs\n",
      "538     Henry  729       Johan\n",
      "549     Henry  741        Kaja\n",
      "634     Henry  821        Kaja\n",
      "694     Henry  989        Kaja, 'Kaja':     messenger    t   closestStar\n",
      "33       Kaja   74  StarID_01621\n",
      "36       Kaja   78  StarID_01609\n",
      "41       Kaja   80  StarID_01601\n",
      "62       Kaja  107  StarID_02358\n",
      "65       Kaja  109  StarID_02353\n",
      "72       Kaja  121  StarID_03906\n",
      "77       Kaja  127  StarID_03299\n",
      "78       Kaja  131  StarID_02401\n",
      "85       Kaja  142  StarID_02383\n",
      "144      Kaja  217  StarID_02376\n",
      "152      Kaja  225  StarID_02399\n",
      "165      Kaja  254  StarID_02371\n",
      "180      Kaja  275  StarID_02040\n",
      "187      Kaja  283  StarID_03895\n",
      "220      Kaja  320  StarID_02481\n",
      "249      Kaja  366  StarID_01548\n",
      "251      Kaja  368  StarID_02542\n",
      "281      Kaja  418  StarID_01178\n",
      "290      Kaja  441  StarID_01170\n",
      "296      Kaja  453  StarID_01170\n",
      "299      Kaja  466  StarID_01173\n",
      "308      Kaja  495  StarID_01184\n",
      "309      Kaja  496  StarID_02722\n",
      "317      Kaja  511  StarID_02716\n",
      "356      Kaja  590  StarID_02687\n",
      "358      Kaja  604  StarID_02698\n",
      "380      Kaja  653  StarID_02712\n",
      "393      Kaja  679  StarID_02708\n",
      "422      Kaja  750  StarID_02714\n",
      "430      Kaja  777  StarID_01190\n",
      "432      Kaja  778  StarID_02712\n",
      "437      Kaja  787  StarID_01190\n",
      "442      Kaja  800  StarID_01188\n",
      "453      Kaja  818  StarID_02727\n",
      "489      Kaja  906  StarID_01190\n",
      "498      Kaja  920  StarID_02711\n",
      "520      Kaja  949  StarID_02096\n",
      "521      Kaja  950  StarID_02099\n",
      "532      Kaja  991  StarID_03314\n",
      "534      Kaja  994  StarID_01456\n",
      "535      Kaja  995  StarID_01468, 'Finn':     messenger    t   closestStar\n",
      "35       Finn   78  StarID_00159\n",
      "61       Finn  106  StarID_00170\n",
      "89       Finn  145  StarID_00139\n",
      "94       Finn  152  StarID_03373\n",
      "96       Finn  153  StarID_03905\n",
      "120      Finn  179  StarID_03819\n",
      "123      Finn  182  StarID_03454\n",
      "139      Finn  210  StarID_03819\n",
      "151      Finn  224  StarID_03819\n",
      "153      Finn  228  StarID_03454\n",
      "161      Finn  246  StarID_03819\n",
      "166      Finn  256  StarID_03819\n",
      "188      Finn  284  StarID_03819\n",
      "191      Finn  287  StarID_03454\n",
      "204      Finn  300  StarID_03454\n",
      "209      Finn  304  StarID_03819\n",
      "227      Finn  333  StarID_03454\n",
      "237      Finn  342  StarID_03819\n",
      "241      Finn  352  StarID_03819\n",
      "242      Finn  353  StarID_03454\n",
      "250      Finn  368  StarID_03454\n",
      "252      Finn  369  StarID_03819\n",
      "253      Finn  370  StarID_03454\n",
      "256      Finn  374  StarID_02042\n",
      "257      Finn  375  StarID_03895\n",
      "263      Finn  383  StarID_01728\n",
      "277      Finn  408  StarID_01724\n",
      "283      Finn  422  StarID_01726\n",
      "286      Finn  436  StarID_01721\n",
      "330      Finn  532  StarID_02277\n",
      "333      Finn  544  StarID_02294\n",
      "338      Finn  556  StarID_04139\n",
      "359      Finn  613  StarID_00592\n",
      "360      Finn  614  StarID_03317\n",
      "362      Finn  620  StarID_02238\n",
      "365      Finn  632  StarID_02232\n",
      "386      Finn  670  StarID_01123\n",
      "395      Finn  682  StarID_02233\n",
      "413      Finn  716  StarID_01644\n",
      "462      Finn  834  StarID_01591\n",
      "463      Finn  835  StarID_01572\n",
      "464      Finn  837  StarID_01567\n",
      "465      Finn  839  StarID_01592\n",
      "477      Finn  877  StarID_00450\n",
      "499      Finn  923  StarID_00453\n",
      "527      Finn  971  StarID_00428, 'Pernille':     messenger    t cotraveller\n",
      "91   Pernille  112       Ariel\n",
      "107  Pernille  136      Mikkel\n",
      "113  Pernille  141      Mikkel\n",
      "117  Pernille  145       Ariel\n",
      "120  Pernille  148      Robert\n",
      "124  Pernille  153       Harry\n",
      "132  Pernille  166       Ariel\n",
      "148  Pernille  186      Mikkel\n",
      "154  Pernille  193       Harry\n",
      "159  Pernille  202      Wallie\n",
      "165  Pernille  206      Wallie\n",
      "170  Pernille  216      Robert\n",
      "178  Pernille  225       Ariel\n",
      "189  Pernille  237      Mikkel\n",
      "210  Pernille  260       Ariel\n",
      "252  Pernille  309      Wallie\n",
      "274  Pernille  353       Harry\n",
      "308  Pernille  406        Emil\n",
      "310  Pernille  411      Winnie\n",
      "319  Pernille  420       Ariel\n",
      "329  Pernille  428      Wallie\n",
      "349  Pernille  458        Emil\n",
      "402  Pernille  542        Emil\n",
      "413  Pernille  556      Robert\n",
      "426  Pernille  576        Emil\n",
      "431  Pernille  583      Mikkel\n",
      "433  Pernille  590      Mikkel\n",
      "443  Pernille  595      Robert\n",
      "446  Pernille  601       Harry\n",
      "465  Pernille  627        Emil\n",
      "468  Pernille  633      Winnie\n",
      "473  Pernille  643      Mikkel\n",
      "489  Pernille  671      Robert\n",
      "490  Pernille  672      Winnie\n",
      "497  Pernille  685        Emil\n",
      "498  Pernille  686       Harry\n",
      "502  Pernille  690      Wallie\n",
      "529  Pernille  722        Emil\n",
      "539  Pernille  729       Harry\n",
      "563  Pernille  758       Ariel\n",
      "594  Pernille  780      Wallie\n",
      "617  Pernille  801       Ariel\n",
      "622  Pernille  805        Emil\n",
      "632  Pernille  819      Winnie\n",
      "640  Pernille  836      Winnie\n",
      "646  Pernille  850       Harry\n",
      "658  Pernille  875      Wallie\n",
      "663  Pernille  896       Ariel\n",
      "675  Pernille  921       Harry\n",
      "688  Pernille  969       Harry\n",
      "690  Pernille  975       Harry\n",
      "691  Pernille  976        Emil\n",
      "692  Pernille  978      Winnie}\n",
      "\n",
      "Found 33 flav_rebels!\n",
      "{'Barb': 'COT', 'Rolf': 'NEA', 'Ane': 'NEA', 'Bonnie': 'NEA', 'Cris': 'LOC', 'Ariel': 'COT', 'Marie': 'COT', 'Carrie': 'COT', 'Larry': 'COT', 'Harry': 'COT', 'Wallie': 'NEA', 'Vanessa': 'COT', 'Jelena': 'COT', 'Johan': 'LOC', 'Yolanda': 'LOC', 'Georg': 'COT', 'Mikkel': 'LOC', 'Robert': 'LOC', 'Nathan': 'COT', 'Qwon': 'NEA', 'Rikke': 'NEA', 'Emil': 'LOC', 'Winnie': 'LOC', 'Luna': 'NEA', 'Basim': 'NEA', 'Jesper': 'NEA', 'Steve': 'LOC', 'Biggs': 'COT', 'Ben': 'COT', 'Henry': 'COT', 'Kaja': 'NEA', 'Finn': 'NEA', 'Pernille': 'COT'}\n",
      "\n",
      "COTraveller message dataframe:\n",
      "    messenger     t cotraveller\n",
      "0        Barb     1      Nathan\n",
      "1       Ariel     3    Pernille\n",
      "2       Marie     5        Qwon\n",
      "3      Carrie     5       Marie\n",
      "4       Larry     6       Johan\n",
      "..        ...   ...         ...\n",
      "694     Henry   989        Kaja\n",
      "695     Harry   992        Emil\n",
      "696     Biggs   993       Larry\n",
      "697      Barb   997        Finn\n",
      "698     Georg  1000      Jelena\n",
      "\n",
      "[699 rows x 3 columns]\n",
      "\n",
      "NEArest star message dataframe:\n",
      "    messenger    t   closestStar\n",
      "0        Rolf    1  StarID_00155\n",
      "1         Ane    1  StarID_00128\n",
      "2      Bonnie    1  StarID_00128\n",
      "3      Wallie    9  StarID_03688\n",
      "4        Rolf   18  StarID_00151\n",
      "..        ...  ...           ...\n",
      "532      Kaja  991  StarID_03314\n",
      "533    Bonnie  992  StarID_02476\n",
      "534      Kaja  994  StarID_01456\n",
      "535      Kaja  995  StarID_01468\n",
      "536    Wallie  999  StarID_00610\n",
      "\n",
      "[537 rows x 3 columns]\n",
      "\n",
      "LOCation message dataframe:\n",
      "    messenger    t           x           y           z\n",
      "0        Cris    3  540.295376  397.296786  836.038739\n",
      "1        Cris   10  545.178797  399.565894  833.160660\n",
      "2       Johan   16  547.261193  388.539646  827.665411\n",
      "3       Johan   17  540.520872  411.808695  810.310567\n",
      "4     Yolanda   19  227.953620  815.737788   45.959464\n",
      "..        ...  ...         ...         ...         ...\n",
      "337    Mikkel  982  563.173890  773.318289  896.566495\n",
      "338      Emil  985  563.117317  764.781718  903.855454\n",
      "339    Robert  986  557.790475  774.091750  901.271762\n",
      "340   Yolanda  992  857.457528  520.818198  247.503174\n",
      "341      Cris  993  201.019299  786.104698  216.834280\n",
      "\n",
      "[342 rows x 5 columns]\n"
     ]
    }
   ],
   "source": [
    "# This quickly parses the public data and returns:\n",
    "## 1. rebels: dictionary with rebel names as key, and a dataframe with all their messages as value\n",
    "## 2. cot: a data frame with ALL messages of type COT (cotraveller)\n",
    "## 3. nea: a data frame with ALL messages of type NEA (nearest star)\n",
    "## 4. loc: a data frame with ALL messages of type LOC (smeared location)\n",
    "\n",
    "# The COT, NEA, and LOC dataframes are then printed for info\n",
    "\n",
    "import rebel_decode as rd\n",
    "import plotly.express as px\n",
    "import numpy as np\n",
    "p_info = rd.parse_public_data(\"../out/0001_public.txt\")\n",
    "REBS=p_info.get_rebs()\n",
    "COT=p_info.get_cot()\n",
    "NEA=p_info.get_nea()\n",
    "LOC=p_info.get_loc()\n",
    "FLAVOUR_DICT=p_info.get_flavour_dict()\n",
    "\n",
    "print('Found %d rebels!' % len(REBS))\n",
    "print('\\n Rebel names and message types:')\n",
    "print(REBS)\n",
    "\n",
    "print('\\nFound %d flav_rebels!' % len(FLAVOUR_DICT))\n",
    "print(FLAVOUR_DICT)\n",
    "\n",
    "print('\\nCOTraveller message dataframe:')\n",
    "print(COT)\n",
    "\n",
    "print('\\nNEArest star message dataframe:')\n",
    "print(NEA)\n",
    "\n",
    "print('\\nLOCation message dataframe:')\n",
    "print(LOC)"
   ]
  },
  {
   "cell_type": "code",
   "execution_count": null,
   "id": "a707d782-3872-4654-99ad-7a5263f251c4",
   "metadata": {},
   "outputs": [],
   "source": [
    "# Print dataframes per rebel (not that useful by itself, but just so you see how these are stored)\n",
    "for rebelName in REBS:\n",
    "    print('######################################')\n",
    "    print('Name: %s, Message Type: %s' % (rebelName, FLAVOUR_DICT[rebelName]))\n",
    "    print('######################################')\n",
    "    print(REBS[rebelName])\n",
    "    print('\\n\\n')"
   ]
  },
  {
   "cell_type": "code",
   "execution_count": 2,
   "id": "df2c2cfb-6419-4262-8d49-ba1da92a5cbb",
   "metadata": {},
   "outputs": [
    {
     "data": {
      "application/vnd.plotly.v1+json": {
       "config": {
        "plotlyServerURL": "https://plot.ly"
       },
       "data": [
        {
         "customdata": [
          [
           3
          ],
          [
           10
          ],
          [
           41
          ],
          [
           48
          ],
          [
           56
          ],
          [
           63
          ],
          [
           127
          ],
          [
           130
          ],
          [
           291
          ],
          [
           301
          ],
          [
           313
          ],
          [
           329
          ],
          [
           345
          ],
          [
           360
          ],
          [
           366
          ],
          [
           376
          ],
          [
           386
          ],
          [
           407
          ],
          [
           442
          ],
          [
           446
          ],
          [
           495
          ],
          [
           502
          ],
          [
           552
          ],
          [
           562
          ],
          [
           585
          ],
          [
           636
          ],
          [
           660
          ],
          [
           690
          ],
          [
           697
          ],
          [
           788
          ],
          [
           793
          ],
          [
           805
          ],
          [
           819
          ],
          [
           823
          ],
          [
           828
          ],
          [
           832
          ],
          [
           886
          ],
          [
           910
          ],
          [
           924
          ],
          [
           926
          ],
          [
           929
          ],
          [
           936
          ],
          [
           961
          ],
          [
           993
          ]
         ],
         "hovertemplate": "<b>%{hovertext}</b><br><br>messenger=Cris<br>x=%{x}<br>y=%{y}<br>z=%{z}<br>t=%{customdata[0]}<extra></extra>",
         "hovertext": [
          "Cris",
          "Cris",
          "Cris",
          "Cris",
          "Cris",
          "Cris",
          "Cris",
          "Cris",
          "Cris",
          "Cris",
          "Cris",
          "Cris",
          "Cris",
          "Cris",
          "Cris",
          "Cris",
          "Cris",
          "Cris",
          "Cris",
          "Cris",
          "Cris",
          "Cris",
          "Cris",
          "Cris",
          "Cris",
          "Cris",
          "Cris",
          "Cris",
          "Cris",
          "Cris",
          "Cris",
          "Cris",
          "Cris",
          "Cris",
          "Cris",
          "Cris",
          "Cris",
          "Cris",
          "Cris",
          "Cris",
          "Cris",
          "Cris",
          "Cris",
          "Cris"
         ],
         "legendgroup": "Cris",
         "marker": {
          "color": "#636efa",
          "opacity": 1,
          "size": 4,
          "symbol": "circle"
         },
         "mode": "markers",
         "name": "Cris",
         "scene": "scene",
         "showlegend": true,
         "type": "scatter3d",
         "x": [
          540.2953755707723,
          545.1787967512645,
          556.0710739300612,
          538.4186459814379,
          470.0836444125403,
          157.16630267228703,
          725.6030334136648,
          754.4446927768469,
          423.3388136398472,
          608.8796045094331,
          610.024971348742,
          856.2696555026155,
          951.0345205528834,
          940.520085213533,
          939.4622611326914,
          763.908218212404,
          763.8192106886427,
          760.7229047485138,
          766.1363667664398,
          764.185006261349,
          759.8074075243081,
          755.3138258332286,
          762.11525399045,
          759.7198831359672,
          419.9244679409503,
          756.9022279744903,
          767.2746166836794,
          765.5845400039984,
          747.2392836554991,
          755.4779546011082,
          756.8114945285887,
          747.1958361796553,
          762.5809284554714,
          780.3593116339581,
          772.720062117315,
          764.3342058954418,
          760.981869177594,
          752.6256492833447,
          741.6420409582522,
          745.4961260682546,
          791.0038273180315,
          763.2287280898947,
          743.8352900701028,
          201.01929948026813
         ],
         "y": [
          397.29678648681534,
          399.565893804204,
          402.40596754597146,
          382.6777232288331,
          447.09055120117625,
          800.3549772722553,
          852.2494750056437,
          944.4216022954731,
          610.1242831828232,
          710.0385610797075,
          702.1381640698158,
          505.991945490724,
          211.53824940820815,
          196.59238501654184,
          198.79257486664295,
          616.3689457795062,
          617.6966411977355,
          610.6128910073655,
          592.5486640618003,
          604.9566701721186,
          611.8911988503819,
          638.8703190234935,
          596.2285788072867,
          587.1771325297527,
          670.4210404407772,
          640.0789636527663,
          599.3788569284148,
          620.000974767039,
          588.4062880620086,
          591.5675962311923,
          606.6568361156956,
          596.2864191014247,
          610.2730299445572,
          575.1634702566483,
          619.1099492044792,
          613.372849586733,
          608.6108590554445,
          588.5406520717291,
          575.0022684958508,
          625.3644545278954,
          594.4607035946328,
          601.8523207307803,
          631.3332669349361,
          786.104697708563
         ],
         "z": [
          836.0387392391777,
          833.1606600941117,
          824.9419482333456,
          831.6501560102951,
          768.0330842258829,
          255.3437414885439,
          406.05888107762763,
          340.5944632601419,
          217.81246650905055,
          139.44832160995153,
          113.60687962944517,
          356.5037055896727,
          710.6875712454525,
          698.6776494657693,
          696.248576846914,
          578.1915291253802,
          581.7105887109799,
          567.1400471288072,
          580.8822430386696,
          623.9767342730022,
          566.7621663094889,
          684.2728784738244,
          613.7566766330569,
          573.3774680609552,
          710.9995078236266,
          679.820234893064,
          552.6726244684118,
          570.1428659895058,
          584.3632491171107,
          563.620513113497,
          564.5213644795708,
          583.7150349874513,
          578.519799459443,
          596.3073580809918,
          569.8125640432125,
          578.6375502606905,
          579.641021850058,
          577.1396647435063,
          564.9933882245264,
          574.3788898693147,
          581.5270477711248,
          565.5972396254614,
          641.9511022756075,
          216.83427956203755
         ]
        },
        {
         "customdata": [
          [
           16
          ],
          [
           17
          ],
          [
           25
          ],
          [
           30
          ],
          [
           96
          ],
          [
           119
          ],
          [
           305
          ],
          [
           309
          ],
          [
           363
          ],
          [
           370
          ],
          [
           371
          ],
          [
           427
          ],
          [
           432
          ],
          [
           488
          ],
          [
           547
          ],
          [
           548
          ],
          [
           567
          ],
          [
           634
          ],
          [
           795
          ],
          [
           866
          ],
          [
           878
          ],
          [
           925
          ]
         ],
         "hovertemplate": "<b>%{hovertext}</b><br><br>messenger=Johan<br>x=%{x}<br>y=%{y}<br>z=%{z}<br>t=%{customdata[0]}<extra></extra>",
         "hovertext": [
          "Johan",
          "Johan",
          "Johan",
          "Johan",
          "Johan",
          "Johan",
          "Johan",
          "Johan",
          "Johan",
          "Johan",
          "Johan",
          "Johan",
          "Johan",
          "Johan",
          "Johan",
          "Johan",
          "Johan",
          "Johan",
          "Johan",
          "Johan",
          "Johan",
          "Johan"
         ],
         "legendgroup": "Johan",
         "marker": {
          "color": "#EF553B",
          "opacity": 1,
          "size": 4,
          "symbol": "circle"
         },
         "mode": "markers",
         "name": "Johan",
         "scene": "scene",
         "showlegend": true,
         "type": "scatter3d",
         "x": [
          547.2611932488358,
          540.52087247473,
          527.0478328708085,
          537.9024519891188,
          93.61607525239917,
          708.6898591933623,
          607.3073562593588,
          603.812193440445,
          946.9261415712119,
          825.6501378595876,
          787.4275291283362,
          752.796016276155,
          766.9973441111248,
          772.4501503258441,
          732.0643646726037,
          767.7471620089059,
          759.6244606581221,
          760.975483016871,
          787.9472299467058,
          778.2661925261708,
          788.1654016536281,
          772.2239956448864
         ],
         "y": [
          388.5396464120429,
          411.80869477072554,
          406.1131612313941,
          408.07830175248205,
          248.72146112567285,
          228.75446702686304,
          702.3618841496191,
          732.2851741095732,
          207.69552696332767,
          466.6915584739685,
          553.9721603299608,
          567.3617744923426,
          598.451322156847,
          569.6495694024492,
          585.1891267115406,
          588.8430316314488,
          617.530562149641,
          605.5496113496725,
          594.1448478846776,
          609.8138538460644,
          611.4938460246917,
          609.5148151750457
         ],
         "z": [
          827.66541068576,
          810.3105670478169,
          804.1882090427331,
          809.8827460350866,
          358.82256674443886,
          680.8180377478209,
          149.3419981363146,
          110.77044102341242,
          683.2289869840275,
          612.0705465106508,
          590.6693793257463,
          586.6819261929309,
          555.1640115399368,
          596.2267685718449,
          586.0906941118299,
          572.5130435139587,
          579.8438490034562,
          601.5228175335274,
          579.0763840557714,
          601.9330577252031,
          565.2602240548943,
          585.279756141567
         ]
        },
        {
         "customdata": [
          [
           19
          ],
          [
           110
          ],
          [
           126
          ],
          [
           155
          ],
          [
           191
          ],
          [
           292
          ],
          [
           323
          ],
          [
           407
          ],
          [
           419
          ],
          [
           443
          ],
          [
           471
          ],
          [
           513
          ],
          [
           601
          ],
          [
           681
          ],
          [
           705
          ],
          [
           747
          ],
          [
           748
          ],
          [
           822
          ],
          [
           840
          ],
          [
           849
          ],
          [
           855
          ],
          [
           861
          ],
          [
           884
          ],
          [
           904
          ],
          [
           910
          ],
          [
           948
          ],
          [
           966
          ],
          [
           980
          ],
          [
           992
          ]
         ],
         "hovertemplate": "<b>%{hovertext}</b><br><br>messenger=Yolanda<br>x=%{x}<br>y=%{y}<br>z=%{z}<br>t=%{customdata[0]}<extra></extra>",
         "hovertext": [
          "Yolanda",
          "Yolanda",
          "Yolanda",
          "Yolanda",
          "Yolanda",
          "Yolanda",
          "Yolanda",
          "Yolanda",
          "Yolanda",
          "Yolanda",
          "Yolanda",
          "Yolanda",
          "Yolanda",
          "Yolanda",
          "Yolanda",
          "Yolanda",
          "Yolanda",
          "Yolanda",
          "Yolanda",
          "Yolanda",
          "Yolanda",
          "Yolanda",
          "Yolanda",
          "Yolanda",
          "Yolanda",
          "Yolanda",
          "Yolanda",
          "Yolanda",
          "Yolanda"
         ],
         "legendgroup": "Yolanda",
         "marker": {
          "color": "#00cc96",
          "opacity": 1,
          "size": 4,
          "symbol": "circle"
         },
         "mode": "markers",
         "name": "Yolanda",
         "scene": "scene",
         "showlegend": true,
         "type": "scatter3d",
         "x": [
          227.95362008133657,
          230.19382710190203,
          232.23021471857265,
          242.80491985358537,
          218.48174069477412,
          273.03745499301397,
          253.6325827133179,
          268.40911863064,
          245.58907071388845,
          421.4244155280885,
          429.56027764246625,
          447.1806384703806,
          207.09596591867015,
          584.49113321706,
          581.3101222935132,
          100.86341435995412,
          109.68451011832147,
          498.500293891329,
          699.9918377374189,
          718.8271809081094,
          692.3407997185362,
          803.3442469389761,
          802.8538490231468,
          812.3530270635922,
          853.52335220045,
          819.1657229746105,
          820.3222420389659,
          813.2238565670363,
          857.4575278704413
         ],
         "y": [
          815.7377882482239,
          813.0010523904815,
          798.0278520297003,
          798.3024510102136,
          813.3736966624169,
          895.5039447301286,
          874.8467617866751,
          878.0413448230241,
          864.0284025747718,
          550.465463070254,
          555.8878082965869,
          561.5442974409538,
          733.153496523766,
          926.3386305017492,
          922.1061367278196,
          834.1262246509568,
          834.2607486633495,
          615.7441007100433,
          541.845645689116,
          540.1325449025553,
          547.955669726031,
          537.5405568346611,
          499.6236423088833,
          527.0583705171455,
          572.2590963915092,
          525.5677332147433,
          547.1436606946303,
          542.6939380919828,
          520.8181984573495
         ],
         "z": [
          45.95946441873594,
          50.89392629587611,
          54.430459927926044,
          42.36226840918051,
          24.439478062950396,
          882.7744118308368,
          859.7629103126975,
          876.8024000389196,
          889.0084183418586,
          611.173794318785,
          662.1131120762338,
          607.2718803975553,
          821.6776115195304,
          221.8926404991396,
          215.09906125165412,
          194.9123151584114,
          156.68220455567675,
          346.6258757063191,
          397.4498833405902,
          406.2115568530696,
          381.59263936411503,
          299.7243985358883,
          253.07241615152194,
          287.09107494382977,
          258.1783579964873,
          268.89626101233205,
          262.9229670074677,
          275.57105870004654,
          247.5031739736028
         ]
        },
        {
         "customdata": [
          [
           26
          ],
          [
           31
          ],
          [
           48
          ],
          [
           57
          ],
          [
           58
          ],
          [
           67
          ],
          [
           88
          ],
          [
           93
          ],
          [
           122
          ],
          [
           170
          ],
          [
           173
          ],
          [
           191
          ],
          [
           199
          ],
          [
           207
          ],
          [
           231
          ],
          [
           252
          ],
          [
           260
          ],
          [
           265
          ],
          [
           270
          ],
          [
           279
          ],
          [
           285
          ],
          [
           288
          ],
          [
           306
          ],
          [
           307
          ],
          [
           326
          ],
          [
           335
          ],
          [
           350
          ],
          [
           353
          ],
          [
           364
          ],
          [
           366
          ],
          [
           381
          ],
          [
           407
          ],
          [
           431
          ],
          [
           435
          ],
          [
           440
          ],
          [
           533
          ],
          [
           535
          ],
          [
           582
          ],
          [
           659
          ],
          [
           672
          ],
          [
           678
          ],
          [
           688
          ],
          [
           691
          ],
          [
           716
          ],
          [
           742
          ],
          [
           774
          ],
          [
           814
          ],
          [
           882
          ],
          [
           906
          ],
          [
           909
          ],
          [
           915
          ],
          [
           938
          ],
          [
           945
          ],
          [
           969
          ],
          [
           982
          ]
         ],
         "hovertemplate": "<b>%{hovertext}</b><br><br>messenger=Mikkel<br>x=%{x}<br>y=%{y}<br>z=%{z}<br>t=%{customdata[0]}<extra></extra>",
         "hovertext": [
          "Mikkel",
          "Mikkel",
          "Mikkel",
          "Mikkel",
          "Mikkel",
          "Mikkel",
          "Mikkel",
          "Mikkel",
          "Mikkel",
          "Mikkel",
          "Mikkel",
          "Mikkel",
          "Mikkel",
          "Mikkel",
          "Mikkel",
          "Mikkel",
          "Mikkel",
          "Mikkel",
          "Mikkel",
          "Mikkel",
          "Mikkel",
          "Mikkel",
          "Mikkel",
          "Mikkel",
          "Mikkel",
          "Mikkel",
          "Mikkel",
          "Mikkel",
          "Mikkel",
          "Mikkel",
          "Mikkel",
          "Mikkel",
          "Mikkel",
          "Mikkel",
          "Mikkel",
          "Mikkel",
          "Mikkel",
          "Mikkel",
          "Mikkel",
          "Mikkel",
          "Mikkel",
          "Mikkel",
          "Mikkel",
          "Mikkel",
          "Mikkel",
          "Mikkel",
          "Mikkel",
          "Mikkel",
          "Mikkel",
          "Mikkel",
          "Mikkel",
          "Mikkel",
          "Mikkel",
          "Mikkel",
          "Mikkel"
         ],
         "legendgroup": "Mikkel",
         "marker": {
          "color": "#ab63fa",
          "opacity": 1,
          "size": 4,
          "symbol": "circle"
         },
         "mode": "markers",
         "name": "Mikkel",
         "scene": "scene",
         "showlegend": true,
         "type": "scatter3d",
         "x": [
          780.077602742771,
          710.951996404327,
          770.0405673485409,
          746.7733031857476,
          744.0494038320027,
          763.7337861665296,
          752.0389550481974,
          755.1475118485027,
          154.64997009764346,
          105.26076564111331,
          97.52180267702316,
          144.36576141091115,
          131.63597663604358,
          147.19974217289484,
          89.54612534986556,
          91.79800164179689,
          89.98564560181606,
          88.3730807968308,
          330.7289993481734,
          630.4368272714951,
          640.9336491252841,
          636.2579921379998,
          639.8680931783247,
          632.622539430205,
          642.704274754805,
          644.7961752470957,
          642.4827041628052,
          641.6137209072555,
          649.3085821830267,
          646.2339882681661,
          647.4890381402519,
          441.9150992488307,
          478.26931211158796,
          431.3714833216485,
          439.21527163532767,
          440.4731686480726,
          440.2595378265218,
          442.77632207731983,
          426.12948847230575,
          450.7738244010656,
          444.9479969966626,
          470.10642800209484,
          472.22028369476925,
          481.58610368625205,
          430.56047456467155,
          433.08997157277645,
          443.4295881928138,
          477.2209703527976,
          442.56714632521516,
          438.79271821555756,
          447.7993110965035,
          434.4465995298918,
          472.84925197646754,
          442.5281463439988,
          563.1738902426638
         ],
         "y": [
          245.47427539309672,
          257.91837350468336,
          249.3746073335533,
          241.65217811627033,
          240.61566678393834,
          241.53764717005023,
          246.03507122591316,
          266.7688042370849,
          272.34346963161755,
          289.41507805058654,
          294.9470014523607,
          270.86414323820605,
          279.11408500986954,
          276.1134605390914,
          298.4912606606936,
          294.90513491651984,
          297.1211689717133,
          298.2277890068954,
          189.29105015796767,
          43.416209017426446,
          49.79496041668912,
          45.81248854332249,
          39.88015627310109,
          52.34210778685722,
          43.708071604360015,
          46.535892541501056,
          46.08708646305182,
          45.769364219218055,
          42.19912662919757,
          45.23185984396764,
          51.41735518582095,
          544.8236933744909,
          541.6650019130478,
          530.0797519662107,
          551.3525228645061,
          544.5528516055441,
          538.0655427143033,
          539.8508382180659,
          556.8225335595295,
          566.7784785635546,
          568.5381449851628,
          563.5731768401328,
          570.6232667968586,
          538.3905241572452,
          539.8899246304342,
          553.4435717055751,
          558.3277957231971,
          561.9762912148992,
          572.3610525356735,
          552.1071760904176,
          564.0805269621422,
          537.7930801724962,
          549.9698987680118,
          566.0514471287753,
          773.3182891886448
         ],
         "z": [
          137.7934081832638,
          148.93414664740078,
          159.10628321907438,
          158.58849293317317,
          155.23031678436402,
          142.25594500255482,
          142.87683320085105,
          177.51670212507847,
          872.1820110729159,
          842.1732713002953,
          798.1711530997618,
          866.9543753959377,
          907.9439453179488,
          825.8625219575418,
          796.8177052168371,
          830.0273940499739,
          817.6614081790033,
          801.9854452693039,
          648.8153227197363,
          423.06633441319815,
          428.19327294922505,
          467.3341876454682,
          459.994060403623,
          462.5345657796994,
          468.4025738579935,
          466.9955415927742,
          469.2974489164651,
          425.2243843767923,
          452.3735633277579,
          470.83617360559475,
          468.75611362238806,
          623.5969547750742,
          637.8412907019919,
          647.375676447146,
          685.5847642066733,
          622.6258705331621,
          629.5097766431937,
          625.5581958722385,
          651.8494403639996,
          647.9478233408026,
          673.1956053467594,
          622.9895683814353,
          612.2461027685243,
          641.0919377181435,
          610.3701791860967,
          613.9962740909871,
          688.9856889198765,
          662.7969312291017,
          665.514083879233,
          658.3411545913594,
          648.914783207072,
          608.1121591266992,
          644.7981334563848,
          653.2292699641182,
          896.5664952859133
         ]
        },
        {
         "customdata": [
          [
           26
          ],
          [
           50
          ],
          [
           64
          ],
          [
           71
          ],
          [
           78
          ],
          [
           96
          ],
          [
           105
          ],
          [
           125
          ],
          [
           136
          ],
          [
           138
          ],
          [
           141
          ],
          [
           161
          ],
          [
           165
          ],
          [
           196
          ],
          [
           197
          ],
          [
           207
          ],
          [
           211
          ],
          [
           234
          ],
          [
           244
          ],
          [
           262
          ],
          [
           264
          ],
          [
           275
          ],
          [
           313
          ],
          [
           324
          ],
          [
           365
          ],
          [
           378
          ],
          [
           379
          ],
          [
           384
          ],
          [
           389
          ],
          [
           392
          ],
          [
           416
          ],
          [
           426
          ],
          [
           427
          ],
          [
           432
          ],
          [
           457
          ],
          [
           463
          ],
          [
           464
          ],
          [
           480
          ],
          [
           492
          ],
          [
           495
          ],
          [
           506
          ],
          [
           522
          ],
          [
           525
          ],
          [
           578
          ],
          [
           581
          ],
          [
           609
          ],
          [
           615
          ],
          [
           631
          ],
          [
           634
          ],
          [
           642
          ],
          [
           644
          ],
          [
           655
          ],
          [
           710
          ],
          [
           815
          ],
          [
           830
          ],
          [
           842
          ],
          [
           893
          ],
          [
           904
          ],
          [
           927
          ],
          [
           928
          ],
          [
           986
          ]
         ],
         "hovertemplate": "<b>%{hovertext}</b><br><br>messenger=Robert<br>x=%{x}<br>y=%{y}<br>z=%{z}<br>t=%{customdata[0]}<extra></extra>",
         "hovertext": [
          "Robert",
          "Robert",
          "Robert",
          "Robert",
          "Robert",
          "Robert",
          "Robert",
          "Robert",
          "Robert",
          "Robert",
          "Robert",
          "Robert",
          "Robert",
          "Robert",
          "Robert",
          "Robert",
          "Robert",
          "Robert",
          "Robert",
          "Robert",
          "Robert",
          "Robert",
          "Robert",
          "Robert",
          "Robert",
          "Robert",
          "Robert",
          "Robert",
          "Robert",
          "Robert",
          "Robert",
          "Robert",
          "Robert",
          "Robert",
          "Robert",
          "Robert",
          "Robert",
          "Robert",
          "Robert",
          "Robert",
          "Robert",
          "Robert",
          "Robert",
          "Robert",
          "Robert",
          "Robert",
          "Robert",
          "Robert",
          "Robert",
          "Robert",
          "Robert",
          "Robert",
          "Robert",
          "Robert",
          "Robert",
          "Robert",
          "Robert",
          "Robert",
          "Robert",
          "Robert",
          "Robert"
         ],
         "legendgroup": "Robert",
         "marker": {
          "color": "#FFA15A",
          "opacity": 1,
          "size": 4,
          "symbol": "circle"
         },
         "mode": "markers",
         "name": "Robert",
         "scene": "scene",
         "showlegend": true,
         "type": "scatter3d",
         "x": [
          777.011450007774,
          739.2887419542351,
          773.8694797382144,
          774.0418306527741,
          783.0164462060328,
          754.0166284159313,
          751.5987079622529,
          142.77453951279367,
          151.1174071050184,
          138.44250162853325,
          135.1597199574545,
          135.75127662452664,
          138.33525918562938,
          154.6152908526092,
          151.07348716612466,
          147.74779821693878,
          112.74500528558994,
          102.19612286814272,
          91.81049313238391,
          88.2088901873933,
          89.89784682012407,
          633.9966945994584,
          644.7443097159365,
          646.1336982515561,
          641.906602209775,
          644.9411900153397,
          644.6987187583181,
          645.5657619666592,
          639.2048268674606,
          609.526673705783,
          457.28907462040473,
          472.1350360123692,
          479.3314748735746,
          458.30880868339995,
          440.90674219605376,
          444.2633357049537,
          446.0186434926441,
          466.50628071820023,
          443.198727228582,
          450.2184256756154,
          427.34869786479305,
          443.5284006713393,
          456.7647690994622,
          450.0343618014966,
          444.6552724538036,
          441.4160539406067,
          453.86975923604814,
          435.7652140188406,
          443.4447404269713,
          441.65471858478236,
          471.0445839929028,
          441.8666732635912,
          442.15978594502695,
          448.9204941446873,
          462.3568711784615,
          437.4486008399339,
          464.64225504363395,
          451.57240195098984,
          454.1364358314616,
          462.55212012905895,
          557.7904751343689
         ],
         "y": [
          248.6882449659435,
          245.22523323698053,
          251.68923064516298,
          242.1590359619352,
          229.92657641366955,
          258.15144499973115,
          245.09012274008722,
          272.178564655431,
          277.06064765173807,
          281.3004133267921,
          275.983192947441,
          272.48165586254447,
          276.4482019773562,
          268.26322051724316,
          272.6592023329836,
          282.09061862891696,
          270.4197020368726,
          302.9054168913025,
          297.49164262028216,
          293.23949835139547,
          299.34321781715977,
          50.68192882433073,
          53.4167216234499,
          48.22859110476067,
          52.93172076698677,
          51.38062250709505,
          55.48733232779455,
          49.796499232186,
          50.616326812496986,
          138.96372309559877,
          562.763248514696,
          564.6313312652052,
          567.1197217506905,
          569.350597284555,
          548.0699666770423,
          558.3544219865399,
          564.1732065208341,
          560.4683562240385,
          570.3351960565628,
          549.1041115397953,
          563.0757089059792,
          541.2277591635462,
          555.5260430699354,
          571.0729426158581,
          567.8394722593217,
          550.2691770554186,
          567.6924850203976,
          531.3941026929036,
          562.2259197971182,
          534.7105028236753,
          573.365378945883,
          566.0642143722122,
          561.4166169234946,
          557.0795937393793,
          568.9181103790633,
          550.8288739990479,
          562.0351642847313,
          563.2976717594154,
          555.838655734817,
          565.6771247046091,
          774.0917503588913
         ],
         "z": [
          137.28968580455665,
          149.65658124968982,
          163.39592932273425,
          139.62459469610405,
          130.82644213775964,
          124.63878408825607,
          153.46326519251025,
          878.5070467969167,
          844.8648241704826,
          909.399408381792,
          865.2170942559751,
          858.3731789512192,
          873.8335375011093,
          882.2859881858724,
          872.2278461277317,
          813.3011135038789,
          859.0035075508657,
          795.0217943727854,
          800.2954630394527,
          804.210147537081,
          800.0690213462767,
          429.0375209817274,
          426.0596247113861,
          465.08017418808964,
          421.20471529751114,
          466.3364367916423,
          430.28125656222903,
          420.6987477881495,
          465.9776594610444,
          486.987438859702,
          630.6047598582604,
          645.7843545033696,
          663.8027205813285,
          664.7251995046138,
          622.5436869198008,
          624.809142116648,
          635.8660537170398,
          612.4417116621477,
          646.3080764517066,
          622.9129353899135,
          652.8368670418238,
          620.4403645335448,
          630.3581938622762,
          595.827583507839,
          672.1000118280823,
          631.1521171240727,
          600.1473532005884,
          639.1220594460079,
          678.2419045601873,
          629.5446622738077,
          619.4637498201644,
          623.7738319552157,
          612.137299934895,
          634.2329939881894,
          622.9806421706652,
          607.7387243841865,
          607.1019379399804,
          628.70549572783,
          640.7294728235584,
          616.1701150109625,
          901.2717618032717
         ]
        },
        {
         "customdata": [
          [
           31
          ],
          [
           34
          ],
          [
           55
          ],
          [
           77
          ],
          [
           86
          ],
          [
           98
          ],
          [
           137
          ],
          [
           143
          ],
          [
           158
          ],
          [
           159
          ],
          [
           181
          ],
          [
           188
          ],
          [
           196
          ],
          [
           210
          ],
          [
           221
          ],
          [
           234
          ],
          [
           257
          ],
          [
           279
          ],
          [
           300
          ],
          [
           308
          ],
          [
           316
          ],
          [
           320
          ],
          [
           323
          ],
          [
           332
          ],
          [
           355
          ],
          [
           360
          ],
          [
           368
          ],
          [
           377
          ],
          [
           391
          ],
          [
           417
          ],
          [
           430
          ],
          [
           475
          ],
          [
           480
          ],
          [
           610
          ],
          [
           656
          ],
          [
           665
          ],
          [
           684
          ],
          [
           697
          ],
          [
           708
          ],
          [
           710
          ],
          [
           721
          ],
          [
           858
          ],
          [
           867
          ],
          [
           868
          ],
          [
           887
          ],
          [
           940
          ],
          [
           968
          ],
          [
           974
          ],
          [
           981
          ],
          [
           985
          ]
         ],
         "hovertemplate": "<b>%{hovertext}</b><br><br>messenger=Emil<br>x=%{x}<br>y=%{y}<br>z=%{z}<br>t=%{customdata[0]}<extra></extra>",
         "hovertext": [
          "Emil",
          "Emil",
          "Emil",
          "Emil",
          "Emil",
          "Emil",
          "Emil",
          "Emil",
          "Emil",
          "Emil",
          "Emil",
          "Emil",
          "Emil",
          "Emil",
          "Emil",
          "Emil",
          "Emil",
          "Emil",
          "Emil",
          "Emil",
          "Emil",
          "Emil",
          "Emil",
          "Emil",
          "Emil",
          "Emil",
          "Emil",
          "Emil",
          "Emil",
          "Emil",
          "Emil",
          "Emil",
          "Emil",
          "Emil",
          "Emil",
          "Emil",
          "Emil",
          "Emil",
          "Emil",
          "Emil",
          "Emil",
          "Emil",
          "Emil",
          "Emil",
          "Emil",
          "Emil",
          "Emil",
          "Emil",
          "Emil",
          "Emil"
         ],
         "legendgroup": "Emil",
         "marker": {
          "color": "#19d3f3",
          "opacity": 1,
          "size": 4,
          "symbol": "circle"
         },
         "mode": "markers",
         "name": "Emil",
         "scene": "scene",
         "showlegend": true,
         "type": "scatter3d",
         "x": [
          719.5280503844407,
          749.2874988049151,
          752.5633973595624,
          741.8132361684382,
          778.8395467790579,
          747.1532719228238,
          144.74973867222803,
          138.08206759438377,
          137.83693115663513,
          135.56222333872688,
          88.95195792791291,
          105.16813377907103,
          148.27337193853833,
          137.5123193671551,
          85.71920633557643,
          105.74487046255655,
          85.95283348074906,
          643.8129314402012,
          643.6311591774612,
          648.1382898523219,
          641.6736719191958,
          640.6243140880262,
          634.5378674014188,
          644.9314426907157,
          643.351062099274,
          646.0006898546201,
          638.1372036640141,
          641.1052002754711,
          649.5256626729946,
          456.09758541639405,
          459.6428903969485,
          459.3717649303224,
          461.76300319432045,
          449.21042044462354,
          457.08411393612454,
          452.93780470073625,
          453.07828932995363,
          446.26872291950457,
          452.0575590618575,
          453.62165645407185,
          450.00212451135366,
          459.6132418909011,
          438.0108238817169,
          476.4153369428104,
          417.64921567313735,
          419.11791575005253,
          477.76366102334947,
          438.70319485254606,
          563.7437488997991,
          563.1173166977325
         ],
         "y": [
          253.5882847425051,
          277.04461767666413,
          233.951531936902,
          247.16851076470292,
          233.1396755413085,
          240.42508779648588,
          254.20316839699345,
          265.21672028826555,
          274.1714645685881,
          277.1542269876178,
          294.64043254366567,
          273.1814354439223,
          257.2124978056779,
          269.22142808220684,
          300.21077792647026,
          291.61069664790494,
          288.64895774714915,
          57.61123607811169,
          50.200650060313734,
          53.63773083810208,
          54.680043932079045,
          48.6730020724691,
          51.36292795738515,
          45.527408473322154,
          53.73173591342127,
          53.777968036943626,
          57.29131721684903,
          56.07169505743133,
          50.17373405327036,
          579.5113800482159,
          570.9945935260215,
          573.7166081589862,
          575.3768606154948,
          560.5539244709204,
          564.2881229027256,
          570.0324770191472,
          553.9495402869921,
          552.4043470457992,
          569.8840775040771,
          560.5224360958717,
          566.6022683307367,
          559.5969859913124,
          564.5970321162152,
          559.2996875484007,
          544.5538084779216,
          553.8747495914861,
          537.2886244761847,
          553.6709939647662,
          782.7060314840512,
          764.7817179480069
         ],
         "z": [
          148.39900749819927,
          170.52175429230576,
          170.36345195717774,
          122.54196460119405,
          142.70375141788136,
          155.15616608954113,
          875.2127637525749,
          873.6068370305202,
          860.5980557633422,
          906.5894736463688,
          799.4894470658606,
          839.900491990158,
          886.9647315278107,
          857.2971883092315,
          797.2681368244887,
          795.8084352499884,
          801.925835343635,
          424.37438289150674,
          428.24159413061716,
          466.58907055867127,
          428.1114988617143,
          465.5384941761895,
          421.81949429934565,
          473.1822374828536,
          429.57006634711536,
          471.06318024113966,
          459.9946857321779,
          421.54573675062267,
          458.8696362234871,
          623.0199987048907,
          671.1551396093154,
          616.5900439760914,
          602.7173954697416,
          636.450800444042,
          641.7203738844386,
          623.2583548372038,
          656.3574169157864,
          629.6228772187051,
          638.2817523910832,
          602.7340606109094,
          626.4609944707645,
          665.043932841577,
          675.6829513867199,
          673.8629898433536,
          633.0292744428357,
          657.2780803477104,
          632.1960931651342,
          627.6258585886619,
          905.8562964076494,
          903.8554540822032
         ]
        },
        {
         "customdata": [
          [
           33
          ],
          [
           47
          ],
          [
           68
          ],
          [
           116
          ],
          [
           126
          ],
          [
           141
          ],
          [
           155
          ],
          [
           159
          ],
          [
           167
          ],
          [
           181
          ],
          [
           192
          ],
          [
           215
          ],
          [
           232
          ],
          [
           236
          ],
          [
           245
          ],
          [
           250
          ],
          [
           273
          ],
          [
           280
          ],
          [
           291
          ],
          [
           300
          ],
          [
           301
          ],
          [
           325
          ],
          [
           337
          ],
          [
           338
          ],
          [
           341
          ],
          [
           358
          ],
          [
           371
          ],
          [
           375
          ],
          [
           383
          ],
          [
           384
          ],
          [
           387
          ],
          [
           443
          ],
          [
           445
          ],
          [
           448
          ],
          [
           488
          ],
          [
           514
          ],
          [
           518
          ],
          [
           524
          ],
          [
           535
          ],
          [
           536
          ],
          [
           558
          ],
          [
           581
          ],
          [
           594
          ],
          [
           612
          ],
          [
           636
          ],
          [
           640
          ],
          [
           679
          ],
          [
           682
          ],
          [
           684
          ],
          [
           696
          ],
          [
           722
          ],
          [
           738
          ],
          [
           744
          ],
          [
           750
          ],
          [
           764
          ],
          [
           770
          ],
          [
           797
          ],
          [
           909
          ],
          [
           942
          ],
          [
           971
          ]
         ],
         "hovertemplate": "<b>%{hovertext}</b><br><br>messenger=Winnie<br>x=%{x}<br>y=%{y}<br>z=%{z}<br>t=%{customdata[0]}<extra></extra>",
         "hovertext": [
          "Winnie",
          "Winnie",
          "Winnie",
          "Winnie",
          "Winnie",
          "Winnie",
          "Winnie",
          "Winnie",
          "Winnie",
          "Winnie",
          "Winnie",
          "Winnie",
          "Winnie",
          "Winnie",
          "Winnie",
          "Winnie",
          "Winnie",
          "Winnie",
          "Winnie",
          "Winnie",
          "Winnie",
          "Winnie",
          "Winnie",
          "Winnie",
          "Winnie",
          "Winnie",
          "Winnie",
          "Winnie",
          "Winnie",
          "Winnie",
          "Winnie",
          "Winnie",
          "Winnie",
          "Winnie",
          "Winnie",
          "Winnie",
          "Winnie",
          "Winnie",
          "Winnie",
          "Winnie",
          "Winnie",
          "Winnie",
          "Winnie",
          "Winnie",
          "Winnie",
          "Winnie",
          "Winnie",
          "Winnie",
          "Winnie",
          "Winnie",
          "Winnie",
          "Winnie",
          "Winnie",
          "Winnie",
          "Winnie",
          "Winnie",
          "Winnie",
          "Winnie",
          "Winnie",
          "Winnie"
         ],
         "legendgroup": "Winnie",
         "marker": {
          "color": "#FF6692",
          "opacity": 1,
          "size": 4,
          "symbol": "circle"
         },
         "mode": "markers",
         "name": "Winnie",
         "scene": "scene",
         "showlegend": true,
         "type": "scatter3d",
         "x": [
          711.6560389666982,
          776.9579770208138,
          785.5110734844861,
          139.91480841916282,
          138.37890705427293,
          128.09254880017608,
          129.1659841459057,
          138.5999077239073,
          138.2075396426422,
          86.46773104190626,
          146.92918285070348,
          134.3857460333363,
          84.72708258574237,
          91.29318150945598,
          89.4288186865208,
          94.42939876043334,
          556.514847148181,
          640.7562494840289,
          648.317035496204,
          639.2408718760435,
          644.5984278476521,
          630.1342065950172,
          644.9642730570711,
          646.8530196597403,
          644.7300611498679,
          639.6148239878981,
          649.8251310854374,
          634.90107558519,
          636.3310095313652,
          642.4008986775668,
          651.0537173492623,
          446.26439984181525,
          451.98748325954875,
          434.46935568311113,
          441.1835227851323,
          430.32519741634917,
          449.2814501193995,
          440.87147350758516,
          441.24357296547606,
          430.14921168266255,
          450.1789312429641,
          459.0414273604095,
          457.42210699032063,
          438.493936321344,
          454.44056293448017,
          450.00527335518046,
          472.90284851217916,
          459.46455724062486,
          458.47158394051553,
          444.94507981065385,
          452.24119277764544,
          471.2104475944747,
          456.7315033192167,
          445.2045559013224,
          424.51775448377305,
          460.69853468445007,
          453.70910754725804,
          426.5605500765464,
          458.3901412611491,
          454.45855788182485
         ],
         "y": [
          253.78781063775511,
          249.19821883019003,
          237.62886359092514,
          276.0199351341857,
          287.1465993659753,
          267.5310140211061,
          279.5376893927834,
          263.3295407789057,
          299.166422316177,
          286.0444599269609,
          279.9355761450185,
          275.75640356200455,
          282.5964557177594,
          301.99961471497477,
          294.8925240331963,
          288.5668676765361,
          91.27315148053444,
          43.49737687238057,
          62.53021921451482,
          53.77423168959183,
          42.69379879175403,
          44.615166823148115,
          40.75531325213072,
          48.71289100528746,
          53.11384547273907,
          41.91601851179395,
          47.57754674508915,
          53.07157375781736,
          39.14720062676308,
          54.77226139596988,
          41.68886962020949,
          556.4899555753244,
          560.8317606063692,
          531.4815757180269,
          572.6151413337852,
          562.3608599573151,
          561.1647142532421,
          564.0784021765629,
          540.9226463547318,
          561.7750889703264,
          564.6118952430994,
          566.6134296231468,
          547.8512375701637,
          550.7953253733399,
          553.6134248992206,
          547.4083143756377,
          568.5877648578685,
          561.4249364741909,
          548.6223761267845,
          553.1390345464991,
          566.0348351680736,
          533.6831271364109,
          567.0919118267161,
          530.5295516894633,
          551.8018955379549,
          566.1801968685791,
          562.0935493292372,
          558.3750835863387,
          558.5265353611471,
          558.478140705878
         ],
         "z": [
          143.32997104802072,
          154.42511594899256,
          124.84056001534353,
          859.3015010767889,
          862.9611089751922,
          875.0253152229621,
          851.8193612231244,
          899.4961026898279,
          862.7757735305985,
          802.015533928214,
          868.3303828233612,
          855.0728541592613,
          803.6795291785696,
          804.9790451139368,
          798.035845194152,
          806.2585850271913,
          481.03539622038215,
          462.81234887330925,
          425.58795493737875,
          433.9573609172306,
          464.73053939940036,
          423.30707307991463,
          462.02157141188843,
          424.30900351057176,
          433.12272378030025,
          461.8992965608189,
          421.5296129035126,
          422.02708312822944,
          466.335290311925,
          430.45706975983177,
          466.91491973268967,
          642.2241328950109,
          640.7433826942042,
          641.4728991457489,
          636.8543211464164,
          656.5805181087771,
          609.1239384286408,
          594.3223704227912,
          625.0770078970063,
          660.491125824414,
          667.72792191836,
          663.744109470059,
          620.4237188911836,
          613.0761322491716,
          650.6636090797621,
          613.2786400741462,
          648.1423653629433,
          644.6230956289305,
          654.5095449985877,
          613.8367120735686,
          598.9694451086131,
          639.281217929659,
          623.1613644325915,
          628.9290814801717,
          658.2290768630554,
          660.085447942439,
          651.1487873143191,
          653.287193718847,
          620.7748339509147,
          639.2018913699595
         ]
        },
        {
         "customdata": [
          [
           48
          ],
          [
           63
          ],
          [
           202
          ],
          [
           228
          ],
          [
           271
          ],
          [
           350
          ],
          [
           443
          ],
          [
           464
          ],
          [
           468
          ],
          [
           522
          ],
          [
           552
          ],
          [
           611
          ],
          [
           637
          ],
          [
           659
          ],
          [
           842
          ],
          [
           893
          ],
          [
           913
          ],
          [
           916
          ],
          [
           957
          ],
          [
           960
          ],
          [
           973
          ]
         ],
         "hovertemplate": "<b>%{hovertext}</b><br><br>messenger=Steve<br>x=%{x}<br>y=%{y}<br>z=%{z}<br>t=%{customdata[0]}<extra></extra>",
         "hovertext": [
          "Steve",
          "Steve",
          "Steve",
          "Steve",
          "Steve",
          "Steve",
          "Steve",
          "Steve",
          "Steve",
          "Steve",
          "Steve",
          "Steve",
          "Steve",
          "Steve",
          "Steve",
          "Steve",
          "Steve",
          "Steve",
          "Steve",
          "Steve",
          "Steve"
         ],
         "legendgroup": "Steve",
         "marker": {
          "color": "#B6E880",
          "opacity": 1,
          "size": 4,
          "symbol": "circle"
         },
         "mode": "markers",
         "name": "Steve",
         "scene": "scene",
         "showlegend": true,
         "type": "scatter3d",
         "x": [
          249.81189606726429,
          259.7450191497366,
          859.3185999698626,
          456.9557210623024,
          275.73068481322065,
          254.9054068110948,
          442.817292243316,
          449.83343200905585,
          466.1010695788803,
          479.08155695976507,
          838.5416987496246,
          160.4491616721756,
          204.58178092348504,
          197.41558707084545,
          729.2579326613857,
          817.0135765542159,
          817.2174465480384,
          815.6140497024936,
          824.1502105095867,
          817.4689674013783,
          861.562506392674
         ],
         "y": [
          838.2616120656573,
          823.9175141876739,
          252.08510613111773,
          121.615557155747,
          876.6772014061036,
          897.5922788375569,
          539.8409873438974,
          563.2611035939459,
          562.625490166529,
          575.4477583735177,
          772.0723234389841,
          742.5441698592224,
          738.5105753344297,
          751.7759917705955,
          543.3851557346584,
          537.4020831014632,
          545.9451333434492,
          514.1655864168389,
          540.1404471141839,
          538.7892777388715,
          508.9299887320904
         ],
         "z": [
          24.413825696619835,
          53.991152612141185,
          329.5004455635921,
          590.3914294243957,
          914.045349243131,
          908.9995272486684,
          606.1766199459494,
          609.7709360656152,
          664.2684270755564,
          661.238258894545,
          102.1043992803999,
          806.0542212875578,
          805.5766499400125,
          821.9828273674543,
          409.69973675296325,
          263.5486790750216,
          266.84045429681413,
          246.37057752614803,
          272.0274883986263,
          269.2427493106825,
          251.33939641945355
         ]
        }
       ],
       "layout": {
        "height": 1000,
        "legend": {
         "title": {
          "text": "messenger"
         },
         "tracegroupgap": 0
        },
        "margin": {
         "t": 60
        },
        "scene": {
         "domain": {
          "x": [
           0,
           1
          ],
          "y": [
           0,
           1
          ]
         },
         "xaxis": {
          "range": [
           0,
           1000
          ],
          "title": {
           "text": "x"
          }
         },
         "yaxis": {
          "range": [
           0,
           1000
          ],
          "title": {
           "text": "y"
          }
         },
         "zaxis": {
          "range": [
           0,
           1000
          ],
          "title": {
           "text": "z"
          }
         }
        },
        "template": {
         "data": {
          "bar": [
           {
            "error_x": {
             "color": "#2a3f5f"
            },
            "error_y": {
             "color": "#2a3f5f"
            },
            "marker": {
             "line": {
              "color": "#E5ECF6",
              "width": 0.5
             },
             "pattern": {
              "fillmode": "overlay",
              "size": 10,
              "solidity": 0.2
             }
            },
            "type": "bar"
           }
          ],
          "barpolar": [
           {
            "marker": {
             "line": {
              "color": "#E5ECF6",
              "width": 0.5
             },
             "pattern": {
              "fillmode": "overlay",
              "size": 10,
              "solidity": 0.2
             }
            },
            "type": "barpolar"
           }
          ],
          "carpet": [
           {
            "aaxis": {
             "endlinecolor": "#2a3f5f",
             "gridcolor": "white",
             "linecolor": "white",
             "minorgridcolor": "white",
             "startlinecolor": "#2a3f5f"
            },
            "baxis": {
             "endlinecolor": "#2a3f5f",
             "gridcolor": "white",
             "linecolor": "white",
             "minorgridcolor": "white",
             "startlinecolor": "#2a3f5f"
            },
            "type": "carpet"
           }
          ],
          "choropleth": [
           {
            "colorbar": {
             "outlinewidth": 0,
             "ticks": ""
            },
            "type": "choropleth"
           }
          ],
          "contour": [
           {
            "colorbar": {
             "outlinewidth": 0,
             "ticks": ""
            },
            "colorscale": [
             [
              0,
              "#0d0887"
             ],
             [
              0.1111111111111111,
              "#46039f"
             ],
             [
              0.2222222222222222,
              "#7201a8"
             ],
             [
              0.3333333333333333,
              "#9c179e"
             ],
             [
              0.4444444444444444,
              "#bd3786"
             ],
             [
              0.5555555555555556,
              "#d8576b"
             ],
             [
              0.6666666666666666,
              "#ed7953"
             ],
             [
              0.7777777777777778,
              "#fb9f3a"
             ],
             [
              0.8888888888888888,
              "#fdca26"
             ],
             [
              1,
              "#f0f921"
             ]
            ],
            "type": "contour"
           }
          ],
          "contourcarpet": [
           {
            "colorbar": {
             "outlinewidth": 0,
             "ticks": ""
            },
            "type": "contourcarpet"
           }
          ],
          "heatmap": [
           {
            "colorbar": {
             "outlinewidth": 0,
             "ticks": ""
            },
            "colorscale": [
             [
              0,
              "#0d0887"
             ],
             [
              0.1111111111111111,
              "#46039f"
             ],
             [
              0.2222222222222222,
              "#7201a8"
             ],
             [
              0.3333333333333333,
              "#9c179e"
             ],
             [
              0.4444444444444444,
              "#bd3786"
             ],
             [
              0.5555555555555556,
              "#d8576b"
             ],
             [
              0.6666666666666666,
              "#ed7953"
             ],
             [
              0.7777777777777778,
              "#fb9f3a"
             ],
             [
              0.8888888888888888,
              "#fdca26"
             ],
             [
              1,
              "#f0f921"
             ]
            ],
            "type": "heatmap"
           }
          ],
          "heatmapgl": [
           {
            "colorbar": {
             "outlinewidth": 0,
             "ticks": ""
            },
            "colorscale": [
             [
              0,
              "#0d0887"
             ],
             [
              0.1111111111111111,
              "#46039f"
             ],
             [
              0.2222222222222222,
              "#7201a8"
             ],
             [
              0.3333333333333333,
              "#9c179e"
             ],
             [
              0.4444444444444444,
              "#bd3786"
             ],
             [
              0.5555555555555556,
              "#d8576b"
             ],
             [
              0.6666666666666666,
              "#ed7953"
             ],
             [
              0.7777777777777778,
              "#fb9f3a"
             ],
             [
              0.8888888888888888,
              "#fdca26"
             ],
             [
              1,
              "#f0f921"
             ]
            ],
            "type": "heatmapgl"
           }
          ],
          "histogram": [
           {
            "marker": {
             "pattern": {
              "fillmode": "overlay",
              "size": 10,
              "solidity": 0.2
             }
            },
            "type": "histogram"
           }
          ],
          "histogram2d": [
           {
            "colorbar": {
             "outlinewidth": 0,
             "ticks": ""
            },
            "colorscale": [
             [
              0,
              "#0d0887"
             ],
             [
              0.1111111111111111,
              "#46039f"
             ],
             [
              0.2222222222222222,
              "#7201a8"
             ],
             [
              0.3333333333333333,
              "#9c179e"
             ],
             [
              0.4444444444444444,
              "#bd3786"
             ],
             [
              0.5555555555555556,
              "#d8576b"
             ],
             [
              0.6666666666666666,
              "#ed7953"
             ],
             [
              0.7777777777777778,
              "#fb9f3a"
             ],
             [
              0.8888888888888888,
              "#fdca26"
             ],
             [
              1,
              "#f0f921"
             ]
            ],
            "type": "histogram2d"
           }
          ],
          "histogram2dcontour": [
           {
            "colorbar": {
             "outlinewidth": 0,
             "ticks": ""
            },
            "colorscale": [
             [
              0,
              "#0d0887"
             ],
             [
              0.1111111111111111,
              "#46039f"
             ],
             [
              0.2222222222222222,
              "#7201a8"
             ],
             [
              0.3333333333333333,
              "#9c179e"
             ],
             [
              0.4444444444444444,
              "#bd3786"
             ],
             [
              0.5555555555555556,
              "#d8576b"
             ],
             [
              0.6666666666666666,
              "#ed7953"
             ],
             [
              0.7777777777777778,
              "#fb9f3a"
             ],
             [
              0.8888888888888888,
              "#fdca26"
             ],
             [
              1,
              "#f0f921"
             ]
            ],
            "type": "histogram2dcontour"
           }
          ],
          "mesh3d": [
           {
            "colorbar": {
             "outlinewidth": 0,
             "ticks": ""
            },
            "type": "mesh3d"
           }
          ],
          "parcoords": [
           {
            "line": {
             "colorbar": {
              "outlinewidth": 0,
              "ticks": ""
             }
            },
            "type": "parcoords"
           }
          ],
          "pie": [
           {
            "automargin": true,
            "type": "pie"
           }
          ],
          "scatter": [
           {
            "fillpattern": {
             "fillmode": "overlay",
             "size": 10,
             "solidity": 0.2
            },
            "type": "scatter"
           }
          ],
          "scatter3d": [
           {
            "line": {
             "colorbar": {
              "outlinewidth": 0,
              "ticks": ""
             }
            },
            "marker": {
             "colorbar": {
              "outlinewidth": 0,
              "ticks": ""
             }
            },
            "type": "scatter3d"
           }
          ],
          "scattercarpet": [
           {
            "marker": {
             "colorbar": {
              "outlinewidth": 0,
              "ticks": ""
             }
            },
            "type": "scattercarpet"
           }
          ],
          "scattergeo": [
           {
            "marker": {
             "colorbar": {
              "outlinewidth": 0,
              "ticks": ""
             }
            },
            "type": "scattergeo"
           }
          ],
          "scattergl": [
           {
            "marker": {
             "colorbar": {
              "outlinewidth": 0,
              "ticks": ""
             }
            },
            "type": "scattergl"
           }
          ],
          "scattermapbox": [
           {
            "marker": {
             "colorbar": {
              "outlinewidth": 0,
              "ticks": ""
             }
            },
            "type": "scattermapbox"
           }
          ],
          "scatterpolar": [
           {
            "marker": {
             "colorbar": {
              "outlinewidth": 0,
              "ticks": ""
             }
            },
            "type": "scatterpolar"
           }
          ],
          "scatterpolargl": [
           {
            "marker": {
             "colorbar": {
              "outlinewidth": 0,
              "ticks": ""
             }
            },
            "type": "scatterpolargl"
           }
          ],
          "scatterternary": [
           {
            "marker": {
             "colorbar": {
              "outlinewidth": 0,
              "ticks": ""
             }
            },
            "type": "scatterternary"
           }
          ],
          "surface": [
           {
            "colorbar": {
             "outlinewidth": 0,
             "ticks": ""
            },
            "colorscale": [
             [
              0,
              "#0d0887"
             ],
             [
              0.1111111111111111,
              "#46039f"
             ],
             [
              0.2222222222222222,
              "#7201a8"
             ],
             [
              0.3333333333333333,
              "#9c179e"
             ],
             [
              0.4444444444444444,
              "#bd3786"
             ],
             [
              0.5555555555555556,
              "#d8576b"
             ],
             [
              0.6666666666666666,
              "#ed7953"
             ],
             [
              0.7777777777777778,
              "#fb9f3a"
             ],
             [
              0.8888888888888888,
              "#fdca26"
             ],
             [
              1,
              "#f0f921"
             ]
            ],
            "type": "surface"
           }
          ],
          "table": [
           {
            "cells": {
             "fill": {
              "color": "#EBF0F8"
             },
             "line": {
              "color": "white"
             }
            },
            "header": {
             "fill": {
              "color": "#C8D4E3"
             },
             "line": {
              "color": "white"
             }
            },
            "type": "table"
           }
          ]
         },
         "layout": {
          "annotationdefaults": {
           "arrowcolor": "#2a3f5f",
           "arrowhead": 0,
           "arrowwidth": 1
          },
          "autotypenumbers": "strict",
          "coloraxis": {
           "colorbar": {
            "outlinewidth": 0,
            "ticks": ""
           }
          },
          "colorscale": {
           "diverging": [
            [
             0,
             "#8e0152"
            ],
            [
             0.1,
             "#c51b7d"
            ],
            [
             0.2,
             "#de77ae"
            ],
            [
             0.3,
             "#f1b6da"
            ],
            [
             0.4,
             "#fde0ef"
            ],
            [
             0.5,
             "#f7f7f7"
            ],
            [
             0.6,
             "#e6f5d0"
            ],
            [
             0.7,
             "#b8e186"
            ],
            [
             0.8,
             "#7fbc41"
            ],
            [
             0.9,
             "#4d9221"
            ],
            [
             1,
             "#276419"
            ]
           ],
           "sequential": [
            [
             0,
             "#0d0887"
            ],
            [
             0.1111111111111111,
             "#46039f"
            ],
            [
             0.2222222222222222,
             "#7201a8"
            ],
            [
             0.3333333333333333,
             "#9c179e"
            ],
            [
             0.4444444444444444,
             "#bd3786"
            ],
            [
             0.5555555555555556,
             "#d8576b"
            ],
            [
             0.6666666666666666,
             "#ed7953"
            ],
            [
             0.7777777777777778,
             "#fb9f3a"
            ],
            [
             0.8888888888888888,
             "#fdca26"
            ],
            [
             1,
             "#f0f921"
            ]
           ],
           "sequentialminus": [
            [
             0,
             "#0d0887"
            ],
            [
             0.1111111111111111,
             "#46039f"
            ],
            [
             0.2222222222222222,
             "#7201a8"
            ],
            [
             0.3333333333333333,
             "#9c179e"
            ],
            [
             0.4444444444444444,
             "#bd3786"
            ],
            [
             0.5555555555555556,
             "#d8576b"
            ],
            [
             0.6666666666666666,
             "#ed7953"
            ],
            [
             0.7777777777777778,
             "#fb9f3a"
            ],
            [
             0.8888888888888888,
             "#fdca26"
            ],
            [
             1,
             "#f0f921"
            ]
           ]
          },
          "colorway": [
           "#636efa",
           "#EF553B",
           "#00cc96",
           "#ab63fa",
           "#FFA15A",
           "#19d3f3",
           "#FF6692",
           "#B6E880",
           "#FF97FF",
           "#FECB52"
          ],
          "font": {
           "color": "#2a3f5f"
          },
          "geo": {
           "bgcolor": "white",
           "lakecolor": "white",
           "landcolor": "#E5ECF6",
           "showlakes": true,
           "showland": true,
           "subunitcolor": "white"
          },
          "hoverlabel": {
           "align": "left"
          },
          "hovermode": "closest",
          "mapbox": {
           "style": "light"
          },
          "paper_bgcolor": "white",
          "plot_bgcolor": "#E5ECF6",
          "polar": {
           "angularaxis": {
            "gridcolor": "white",
            "linecolor": "white",
            "ticks": ""
           },
           "bgcolor": "#E5ECF6",
           "radialaxis": {
            "gridcolor": "white",
            "linecolor": "white",
            "ticks": ""
           }
          },
          "scene": {
           "xaxis": {
            "backgroundcolor": "#E5ECF6",
            "gridcolor": "white",
            "gridwidth": 2,
            "linecolor": "white",
            "showbackground": true,
            "ticks": "",
            "zerolinecolor": "white"
           },
           "yaxis": {
            "backgroundcolor": "#E5ECF6",
            "gridcolor": "white",
            "gridwidth": 2,
            "linecolor": "white",
            "showbackground": true,
            "ticks": "",
            "zerolinecolor": "white"
           },
           "zaxis": {
            "backgroundcolor": "#E5ECF6",
            "gridcolor": "white",
            "gridwidth": 2,
            "linecolor": "white",
            "showbackground": true,
            "ticks": "",
            "zerolinecolor": "white"
           }
          },
          "shapedefaults": {
           "line": {
            "color": "#2a3f5f"
           }
          },
          "ternary": {
           "aaxis": {
            "gridcolor": "white",
            "linecolor": "white",
            "ticks": ""
           },
           "baxis": {
            "gridcolor": "white",
            "linecolor": "white",
            "ticks": ""
           },
           "bgcolor": "#E5ECF6",
           "caxis": {
            "gridcolor": "white",
            "linecolor": "white",
            "ticks": ""
           }
          },
          "title": {
           "x": 0.05
          },
          "xaxis": {
           "automargin": true,
           "gridcolor": "white",
           "linecolor": "white",
           "ticks": "",
           "title": {
            "standoff": 15
           },
           "zerolinecolor": "white",
           "zerolinewidth": 2
          },
          "yaxis": {
           "automargin": true,
           "gridcolor": "white",
           "linecolor": "white",
           "ticks": "",
           "title": {
            "standoff": 15
           },
           "zerolinecolor": "white",
           "zerolinewidth": 2
          }
         }
        },
        "width": 1000
       }
      }
     },
     "metadata": {},
     "output_type": "display_data"
    }
   ],
   "source": [
    "# Plot all of the LOCation messages (just for fun...)\n",
    "fig_locs = px.scatter_3d(LOC, x='x', y='y', z='z', hover_name = 'messenger',\n",
    "                        hover_data = ['t','x','y','z'],\n",
    "                        range_x=[0,1000], range_y=[0,1000], range_z=[0,1000],\n",
    "                        opacity=1.0, width = 1000, height = 1000, color='messenger')\n",
    "fig_locs.update_traces(marker=dict(size=4))\n",
    "fig_locs.show()"
   ]
  }
 ],
 "metadata": {
  "kernelspec": {
   "display_name": "base",
   "language": "python",
   "name": "python3"
  },
  "language_info": {
   "codemirror_mode": {
    "name": "ipython",
    "version": 3
   },
   "file_extension": ".py",
   "mimetype": "text/x-python",
   "name": "python",
   "nbconvert_exporter": "python",
   "pygments_lexer": "ipython3",
   "version": "3.8.8"
  },
  "vscode": {
   "interpreter": {
    "hash": "2eff2d74f618fde222479b54118cc76f0f7af2cabe924adab209368f7b17212b"
   }
  }
 },
 "nbformat": 4,
 "nbformat_minor": 5
}
