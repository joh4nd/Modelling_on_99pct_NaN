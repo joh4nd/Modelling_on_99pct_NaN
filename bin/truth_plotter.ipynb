{
 "cells": [
  {
   "cell_type": "code",
   "execution_count": null,
   "metadata": {},
   "outputs": [],
   "source": [
    "# Parses the truth log and gives data frames with:\n",
    "## 1. All star locations\n",
    "## 2. All ship movements\n",
    "## 3. All truth public message emissions (who, where, when, on what ship, and message type)\n",
    "\n",
    "## N.B. The legends are interactable. Clock on entries to enable/disable views\n",
    "\n",
    "import rebel_decode as rd\n",
    "import plotly.express as px\n",
    "\n",
    "truth = rd.parse_truth_data(\"../data/0001_truth.txt\")\n",
    "star_coords = truth.get_stars()\n",
    "ship_movements = truth.get_moves()\n",
    "messages = truth.get_messages()\n",
    "###\n",
    "print('STAR DATAFRAME:')\n",
    "print(star_coords)\n",
    "print('MOVES DATAFRAME')\n",
    "print(ship_movements)\n",
    "print('TRUTH MSGS DATAFRAME:')\n",
    "print(messages)"
   ]
  },
  {
   "cell_type": "code",
   "execution_count": null,
   "metadata": {},
   "outputs": [],
   "source": [
    "# Plot the stars in the galaxy!\n",
    "fig = px.scatter_3d(star_coords, x='x', y='y', z='z', hover_name = 'id', opacity=0.9, width = 1000, height = 1000)\n",
    "fig.update_traces(marker=dict(size=1))\n",
    "fig.show()"
   ]
  },
  {
   "cell_type": "code",
   "execution_count": null,
   "metadata": {},
   "outputs": [],
   "source": [
    "# Plot Ship movements with stars overlaid\n",
    "fig = px.line_3d(ship_movements, x=\"x\", y=\"y\", z=\"z\", color=\"id\",\n",
    "                 range_x=[0,1000], range_y=[0,1000], range_z=[0,1000],\n",
    "                 width=1000, height=1000,\n",
    "                 #color_discrete_sequence=px.colors.qualitative.T10,\n",
    "                 hover_data = ['t','x','y','z'])\n",
    "\n",
    "fig.add_trace(px.scatter_3d(star_coords, x='x', y='y', z='z', hover_name = 'id', opacity=0.4, width = 1000, height = 1000).data[0])\n",
    "fig.update_traces(marker=dict(size=2, color='grey'), line=dict(width=4))\n",
    "fig.show()"
   ]
  },
  {
   "cell_type": "code",
   "execution_count": null,
   "metadata": {},
   "outputs": [],
   "source": [
    "# Plot truth location and type of all the public messages\n",
    "fig_msgs = px.scatter_3d(messages, x='x', y='y', z='z', hover_name = 'id',\n",
    "                         hover_data = ['msg','name','t','x','y','z'],\n",
    "                         range_x=[0,1000], range_y=[0,1000], range_z=[0,1000],\n",
    "                         opacity=1.0, width = 1000, height = 1000, color='msg')\n",
    "fig_msgs.update_traces(marker=dict(size=4))\n",
    "fig_msgs.show()"
   ]
  },
  {
   "cell_type": "code",
   "execution_count": null,
   "metadata": {},
   "outputs": [],
   "source": [
    "# Plot one ship's course and the messages transmitted from its passengers\n",
    "ship_002 = ship_movements[ship_movements['id']=='ShipID_00002']\n",
    "msgs_002 = messages[messages['shipid']=='ShipID_00002']\n",
    "fig_traceMovement = px.scatter_3d(ship_002, x='x', y='y', z='z',\n",
    "                        hover_name = 'id', opacity=0.3,\n",
    "                        range_x=[0,1000], range_y=[0,1000], range_z=[0,1000],\n",
    "                        width = 1000, height = 1000,\n",
    "                            hover_data = ['t'])\n",
    "fig_traceMovement.update_traces(line=dict(width=4, color='blueviolet'), mode = \"lines\")\n",
    "\n",
    "fig_traceMsgs = px.scatter_3d(msgs_002, x='x', y='y', z='z', hover_name = 'id',\n",
    "                         hover_data = ['msg','name','t','x','y','z'], opacity=1.0,\n",
    "                         range_x=[0,1000], range_y=[0,1000], range_z=[0,1000],color='msg',\n",
    "                         width = 1000, height = 1000)\n",
    "\n",
    "for indData in fig_traceMsgs.data:\n",
    "    fig_traceMovement.add_trace(indData)\n",
    "\n",
    "fig_traceMovement.show()"
   ]
  },
  {
   "cell_type": "code",
   "execution_count": null,
   "metadata": {},
   "outputs": [],
   "source": []
  }
 ],
 "metadata": {
  "kernelspec": {
   "display_name": "base",
   "language": "python",
   "name": "python3"
  },
  "language_info": {
   "codemirror_mode": {
    "name": "ipython",
    "version": 3
   },
   "file_extension": ".py",
   "mimetype": "text/x-python",
   "name": "python",
   "nbconvert_exporter": "python",
   "pygments_lexer": "ipython3",
   "version": "3.8.8"
  },
  "vscode": {
   "interpreter": {
    "hash": "2eff2d74f618fde222479b54118cc76f0f7af2cabe924adab209368f7b17212b"
   }
  }
 },
 "nbformat": 4,
 "nbformat_minor": 4
}
