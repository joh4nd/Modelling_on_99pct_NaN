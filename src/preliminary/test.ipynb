{
 "cells": [
  {
   "cell_type": "code",
   "execution_count": 2,
   "metadata": {},
   "outputs": [
    {
     "ename": "ModuleNotFoundError",
     "evalue": "No module named 'rebel_decode'",
     "output_type": "error",
     "traceback": [
      "\u001b[1;31m---------------------------------------------------------------------------\u001b[0m",
      "\u001b[1;31mModuleNotFoundError\u001b[0m                       Traceback (most recent call last)",
      "\u001b[1;32m<ipython-input-2-b2d53869ce23>\u001b[0m in \u001b[0;36m<module>\u001b[1;34m\u001b[0m\n\u001b[1;32m----> 1\u001b[1;33m \u001b[1;32mimport\u001b[0m \u001b[0mrebel_decode\u001b[0m \u001b[1;32mas\u001b[0m \u001b[0mrd\u001b[0m\u001b[1;33m\u001b[0m\u001b[1;33m\u001b[0m\u001b[0m\n\u001b[0m\u001b[0;32m      2\u001b[0m \u001b[1;32mimport\u001b[0m \u001b[0mpandas\u001b[0m \u001b[1;32mas\u001b[0m \u001b[0mpd\u001b[0m\u001b[1;33m\u001b[0m\u001b[1;33m\u001b[0m\u001b[0m\n\u001b[0;32m      3\u001b[0m \u001b[1;32mimport\u001b[0m \u001b[0mnetworkx\u001b[0m \u001b[1;32mas\u001b[0m \u001b[0mnx\u001b[0m\u001b[1;33m\u001b[0m\u001b[1;33m\u001b[0m\u001b[0m\n\u001b[0;32m      4\u001b[0m \u001b[1;33m\u001b[0m\u001b[0m\n\u001b[0;32m      5\u001b[0m \u001b[1;33m\u001b[0m\u001b[0m\n",
      "\u001b[1;31mModuleNotFoundError\u001b[0m: No module named 'rebel_decode'"
     ]
    }
   ],
   "source": [
    "\n",
    "import rebel_decode as rd\n",
    "import pandas as pd\n",
    "import networkx as nx\n",
    "\n",
    "\n",
    "file_number = str(3).zfill(4) # 0001-0010\n",
    "public_file = os.path.join(directory, f\"{file_number}_public.txt\")\n",
    "truth_file = os.path.join(directory, f\"{file_number}_truth.txt\")\n",
    "\n",
    "p_info = rd.parse_public_data(public_file) # \"0001_public.txt\"\n",
    "REBS=p_info.get_rebs()\n",
    "COT=p_info.get_cot() # df \n",
    "NEA=p_info.get_nea() # df\n",
    "LOC=p_info.get_loc() # df\n",
    "FLAVOUR_DICT=p_info.get_flavour_dict()\n",
    "\n",
    "truth = rd.parse_truth_data(truth_file) # \"../out/0001_truth.txt\"\n",
    "star_coords = truth.get_stars()\n",
    "ship_movements = truth.get_moves()\n",
    "messages = truth.get_messages()\n",
    "\n",
    "rebs_df = pd.read_csv(public_file,\n",
    "                header=None, engine='python',\n",
    "                sep='t=(\\d+), (\\w+), (\\w+), (.*)').dropna(how='all', axis=1) # regex from rebel_decode.py\n",
    "rebs_df.columns=['t', 'msg_type', 'messenger', 'msg_content']\n",
    "rebs_df.reset_index(drop=True)\n",
    "\n",
    "rebs_df = rebs_df[['t','messenger','msg_type']]\n",
    "rebs_df = rebs_df.set_index('t')\\\n",
    "            .groupby('messenger')\\\n",
    "            .apply(lambda df_x: df_x.reindex(range(1, 1000+1)))\\\n",
    "            .drop('messenger', axis=1).reset_index()\n",
    "\n",
    "relations = nx.from_pandas_edgelist(COT, source='messenger', target='cotraveller')\n",
    "ships = {rebel: ship for ship, shipnumber in enumerate((nx.connected_components(relations))) for rebel in shipnumber}\n",
    "\n",
    "rebs_df['ship'] = rebs_df['messenger'].map(ships)\n"
   ]
  }
 ],
 "metadata": {
  "kernelspec": {
   "display_name": "pythonforR",
   "language": "python",
   "name": "python3"
  },
  "language_info": {
   "codemirror_mode": {
    "name": "ipython",
    "version": 3
   },
   "file_extension": ".py",
   "mimetype": "text/x-python",
   "name": "python",
   "nbconvert_exporter": "python",
   "pygments_lexer": "ipython3",
   "version": "3.6.13"
  },
  "orig_nbformat": 4
 },
 "nbformat": 4,
 "nbformat_minor": 2
}
