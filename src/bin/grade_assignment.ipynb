{
 "cells": [
  {
   "cell_type": "code",
   "execution_count": null,
   "id": "15667c2c-b872-44a5-8557-edf75700d41f",
   "metadata": {},
   "outputs": [],
   "source": [
    "import rebel_decode as rd\n",
    "rd.grade_assignment(path_truth=\"../data/0001_truth.txt\", path_answer=\"../data/sample_answer.txt\")"
   ]
  },
  {
   "cell_type": "code",
   "execution_count": null,
   "id": "a68b0819-088d-4b40-9faf-04af8034d1fc",
   "metadata": {},
   "outputs": [],
   "source": []
  }
 ],
 "metadata": {
  "kernelspec": {
   "display_name": "base",
   "language": "python",
   "name": "python3"
  },
  "language_info": {
   "codemirror_mode": {
    "name": "ipython",
    "version": 3
   },
   "file_extension": ".py",
   "mimetype": "text/x-python",
   "name": "python",
   "nbconvert_exporter": "python",
   "pygments_lexer": "ipython3",
   "version": "3.8.8"
  },
  "vscode": {
   "interpreter": {
    "hash": "2eff2d74f618fde222479b54118cc76f0f7af2cabe924adab209368f7b17212b"
   }
  }
 },
 "nbformat": 4,
 "nbformat_minor": 5
}
