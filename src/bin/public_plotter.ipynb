{
 "cells": [
  {
   "cell_type": "code",
   "execution_count": null,
   "id": "51722084-df67-445b-b8f3-edb5da6c05ce",
   "metadata": {},
   "outputs": [],
   "source": [
    "# This quickly parses the public data and returns:\n",
    "## 1. rebels: dictionary with rebel names as key, and a dataframe with all their messages as value\n",
    "## 2. cot: a data frame with ALL messages of type COT (cotraveller)\n",
    "## 3. nea: a data frame with ALL messages of type NEA (nearest star)\n",
    "## 4. loc: a data frame with ALL messages of type LOC (smeared location)\n",
    "\n",
    "# The COT, NEA, and LOC dataframes are then printed for info\n",
    "\n",
    "import rebel_decode as rd\n",
    "import plotly.express as px\n",
    "\n",
    "p_info = rd.parse_public_data(\"../data/0001_public.txt\")\n",
    "REBS=p_info.get_rebs()\n",
    "COT=p_info.get_cot()\n",
    "NEA=p_info.get_nea()\n",
    "LOC=p_info.get_loc()\n",
    "FLAVOUR_DICT=p_info.get_flavour_dict()\n",
    "\n",
    "print('Found %d rebels!' % len(REBS))\n",
    "print('\\n Rebel names and message types:')\n",
    "print(REBS)\n",
    "\n",
    "print('\\nFound %d flav_rebels!' % len(FLAVOUR_DICT))\n",
    "print(FLAVOUR_DICT)\n",
    "\n",
    "print('\\nCOTraveller message dataframe:')\n",
    "print(COT)\n",
    "\n",
    "print('\\nNEArest star message dataframe:')\n",
    "print(NEA)\n",
    "\n",
    "print('\\nLOCation message dataframe:')\n",
    "print(LOC)"
   ]
  },
  {
   "cell_type": "code",
   "execution_count": null,
   "id": "a707d782-3872-4654-99ad-7a5263f251c4",
   "metadata": {},
   "outputs": [],
   "source": [
    "# Print dataframes per rebel (not that useful by itself, but just so you see how these are stored)\n",
    "for rebelName in REBS:\n",
    "    print('######################################')\n",
    "    print('Name: %s, Message Type: %s' % (rebelName, FLAVOUR_DICT[rebelName]))\n",
    "    print('######################################')\n",
    "    print(REBS[rebelName])\n",
    "    print('\\n\\n')"
   ]
  },
  {
   "cell_type": "code",
   "execution_count": null,
   "id": "df2c2cfb-6419-4262-8d49-ba1da92a5cbb",
   "metadata": {},
   "outputs": [],
   "source": [
    "# Plot all of the LOCation messages (just for fun...)\n",
    "fig_locs = px.scatter_3d(LOC, x='x', y='y', z='z', hover_name = 'messenger',\n",
    "                        hover_data = ['t','x','y','z'],\n",
    "                        range_x=[0,1000], range_y=[0,1000], range_z=[0,1000],\n",
    "                        opacity=1.0, width = 1000, height = 1000, color='messenger')\n",
    "fig_locs.update_traces(marker=dict(size=4))\n",
    "fig_locs.show()"
   ]
  }
 ],
 "metadata": {
  "kernelspec": {
   "display_name": "base",
   "language": "python",
   "name": "python3"
  },
  "language_info": {
   "codemirror_mode": {
    "name": "ipython",
    "version": 3
   },
   "file_extension": ".py",
   "mimetype": "text/x-python",
   "name": "python",
   "nbconvert_exporter": "python",
   "pygments_lexer": "ipython3",
   "version": "3.9.2"
  },
  "vscode": {
   "interpreter": {
    "hash": "2eff2d74f618fde222479b54118cc76f0f7af2cabe924adab209368f7b17212b"
   }
  }
 },
 "nbformat": 4,
 "nbformat_minor": 5
}
