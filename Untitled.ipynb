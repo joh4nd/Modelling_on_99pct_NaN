{
 "cells": [
  {
   "cell_type": "markdown",
   "id": "ad7d4aa4",
   "metadata": {},
   "source": [
    "### questions thay may help constructing an answer to the assignment\n",
    "1. What type of leaks are most common?\n",
    "    - by leaks we mean message types.\n",
    "    - an answer may be derived from the length of the different dataframes. \n",
    "2. How many ships are there in the graded assignment?\n",
    "    - `public_plotter.ipynb` tæller antal rebeller\n",
    "    - \n",
    "3. List all passengers of each ship in the graded assignment\n",
    "\n",
    "4. Are public message leak rates independent of time/position?\n",
    "    - If not, can you determine the analytical function that govern the rates?\n",
    "5. We said rebel movements are not completely random. Is this true?"
   ]
  },
  {
   "cell_type": "code",
   "execution_count": 37,
   "id": "06e1b5e8",
   "metadata": {},
   "outputs": [
    {
     "data": {
      "text/plain": [
       "msg_type\n",
       "COT    699\n",
       "NEA    537\n",
       "LOC    342\n",
       "dtype: int64"
      ]
     },
     "execution_count": 37,
     "metadata": {},
     "output_type": "execute_result"
    }
   ],
   "source": [
    "# -*- coding: utf-8 -*-\n",
    "\"\"\"\n",
    "Created on Mon Mar 13 20:29:56 2023\n",
    "\n",
    "@author: Johan\n",
    "\"\"\"\n",
    "import pandas as pd\n",
    "\n",
    "# find ud af hvordan public assignment dataframe skal se ud eller ser ud, evt. hvad er koden bag?\n",
    "# df = pd.read_csv('C:/Users/Johan/opg_RR/out/0001_public.txt',\n",
    "#                  header=None, engine='python',\n",
    "#                  sep='t=(\\d+), (\\w+), (\\w+), (.*)')\n",
    "# df \n",
    "\n",
    "df2 = pd.read_csv('C:/Users/Johan/opg_RR/out/0001_public.txt',\n",
    "                 header=None, engine='python',\n",
    "                 sep='t=(\\d+), (\\w+), (\\w+), (.*)').dropna(how='all', axis=1)\n",
    "df2.columns=['t', 'msg_type', 'reb', 'msg_content']"
   ]
  },
  {
   "cell_type": "markdown",
   "id": "8ca31d30",
   "metadata": {},
   "source": [
    "### Q: what type of leaks are most common?"
   ]
  },
  {
   "cell_type": "code",
   "execution_count": 38,
   "id": "2a070492",
   "metadata": {},
   "outputs": [
    {
     "data": {
      "text/plain": [
       "msg_type\n",
       "COT    699\n",
       "NEA    537\n",
       "LOC    342\n",
       "dtype: int64"
      ]
     },
     "execution_count": 38,
     "metadata": {},
     "output_type": "execute_result"
    }
   ],
   "source": [
    "df2.value_counts('msg_type') # df2['msg_type'].value_counts()"
   ]
  },
  {
   "cell_type": "markdown",
   "id": "8ee8570f",
   "metadata": {},
   "source": [
    "### A: leaks about cotravellers\n",
    "\n",
    "##### because why?\n",
    "\n",
    "Perhaps\n",
    "- because messengers leaking their cotravellers leak more often thatn those leaking locations"
   ]
  },
  {
   "cell_type": "markdown",
   "id": "adc2d90c",
   "metadata": {},
   "source": [
    "\n",
    "we need to know the space-time positions (x, y, z) of a number of observations for 1000 time units, given 10 previous (similar) travel patterns and the corresponding “truth” information for us to build an algorithm/model\n",
    "\n",
    "To build an algorithm/model for predicting the space-time positions of observations over 1000 time units based on 10 previous (similar) travel patterns and their corresponding \"truth\" information, you could use a machine learning approach. Here are some steps you could follow:\n",
    "\n",
    "Collect and preprocess the data: Gather the data on the 10 previous travel patterns and the corresponding \"truth\" information for the space-time positions. Preprocess the data by cleaning it, removing any irrelevant information, and ensuring that it is formatted correctly for analysis.\n",
    "\n",
    "Define the problem: Determine what type of machine learning problem you are trying to solve. For example, is it a regression problem (predicting a continuous value) or a classification problem (predicting a discrete value)? In this case, it sounds like a regression problem.\n",
    "\n",
    "Select a model: Choose a machine learning model that is suitable for the problem you are trying to solve. Some common models for regression problems include linear regression, decision trees, and neural networks.\n",
    "\n",
    "Train the model: Use the preprocessed data to train the machine learning model. This involves feeding the model the input data (the 10 previous travel patterns) and the corresponding output data (the \"truth\" information for the space-time positions) and letting the model learn the patterns and relationships between them.\n",
    "\n",
    "Test the model: Use a separate set of data (called the test set) to evaluate how well the model performs at predicting the space-time positions for new data. This helps to ensure that the model is not just memorizing the training data and can generalize well to new data.\n",
    "\n",
    "Optimize the model: If the model is not performing well on the test set, you can tweak the model's parameters, try different models, or adjust the preprocessing steps to see if it improves the model's performance.\n",
    "\n",
    "Deploy the model: Once you are satisfied with the performance of the model, you can deploy it to make predictions on new data.\n",
    "\n",
    "It's important to note that the specific steps involved in building the algorithm/model may vary depending on the specific details of the problem and the data available. However, these general steps provide a starting point for building a machine learning model for predicting space-time positions based on previous travel patterns.\n",
    "\n",
    "\n",
    "\n",
    "\n",
    "johan.andresen@gmail.com\n",
    "there are three outcomes (x, y, z) taking values from 0-1000. there are three features: 1=name of person A, 2=name of person B that has a position similar to person A at all times, c=name of a nearby place\n",
    "To build an algorithm/model that predicts the three outcomes (x, y, z) for each observation based on the three features (name of person A, name of person B, and name of a nearby place), you could use a machine learning approach. Here are some steps you could follow:\n",
    "\n",
    "Collect and preprocess the data: Gather the data on the three features and the corresponding (x, y, z) positions for each observation. Preprocess the data by cleaning it, removing any irrelevant information, and ensuring that it is formatted correctly for analysis.\n",
    "\n",
    "Define the problem: Determine what type of machine learning problem you are trying to solve. For example, is it a regression problem (predicting a continuous value) or a classification problem (predicting a discrete value)? In this case, it sounds like a regression problem.\n",
    "\n",
    "Select a model: Choose a machine learning model that is suitable for the problem you are trying to solve. Some common models for regression problems include linear regression, decision trees, and neural networks.\n",
    "\n",
    "Train the model: Use the preprocessed data to train the machine learning model. This involves feeding the model the input data (the three features) and the corresponding output data (the (x, y, z) positions) and letting the model learn the patterns and relationships between them.\n",
    "\n",
    "Test the model: Use a separate set of data (called the test set) to evaluate how well the model performs at predicting the (x, y, z) positions for new data. This helps to ensure that the model is not just memorizing the training data and can generalize well to new data.\n",
    "\n",
    "Optimize the model: If the model is not performing well on the test set, you can tweak the model's parameters, try different models, or adjust the preprocessing steps to see if it improves the model's performance.\n",
    "\n",
    "Deploy the model: Once you are satisfied with the performance of the model, you can deploy it to make predictions on new data.\n",
    "\n",
    "It's important to note that the specific steps involved in building the algorithm/model may vary depending on the specific details of the problem and the data available. However, these general steps provide a starting point for building a machine learning model for predicting (x, y, z) positions based on the three features (name of person A, name of person B, and name of a nearby place)"
   ]
  }
 ],
 "metadata": {
  "kernelspec": {
   "display_name": "Python 3 (ipykernel)",
   "language": "python",
   "name": "python3"
  },
  "language_info": {
   "codemirror_mode": {
    "name": "ipython",
    "version": 3
   },
   "file_extension": ".py",
   "mimetype": "text/x-python",
   "name": "python",
   "nbconvert_exporter": "python",
   "pygments_lexer": "ipython3",
   "version": "3.8.8"
  }
 },
 "nbformat": 4,
 "nbformat_minor": 5
}
